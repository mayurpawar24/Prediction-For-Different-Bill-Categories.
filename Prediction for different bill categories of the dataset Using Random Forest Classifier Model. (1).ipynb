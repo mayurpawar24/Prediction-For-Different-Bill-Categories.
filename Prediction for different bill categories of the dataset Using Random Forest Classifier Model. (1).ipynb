{
 "cells": [
  {
   "cell_type": "markdown",
   "id": "9f305eba",
   "metadata": {},
   "source": [
    "## Task - Prediction for different bill categories of the dataset \n",
    "### by Mayur Pawar"
   ]
  },
  {
   "cell_type": "code",
   "execution_count": 37,
   "id": "df543050",
   "metadata": {},
   "outputs": [],
   "source": [
    "import pandas as pd\n",
    "import numpy as np\n",
    "import matplotlib.pyplot as plt\n",
    "import seaborn as sns\n",
    "from sklearn.preprocessing import LabelEncoder, StandardScaler\n",
    "from sklearn.model_selection import train_test_split, GridSearchCV\n",
    "from sklearn.ensemble import RandomForestClassifier\n",
    "from sklearn.metrics import accuracy_score, classification_report\n",
    "import warnings\n",
    "warnings.filterwarnings('ignore')"
   ]
  },
  {
   "cell_type": "code",
   "execution_count": 38,
   "id": "dd122758",
   "metadata": {},
   "outputs": [
    {
     "data": {
      "text/html": [
       "<div>\n",
       "<style scoped>\n",
       "    .dataframe tbody tr th:only-of-type {\n",
       "        vertical-align: middle;\n",
       "    }\n",
       "\n",
       "    .dataframe tbody tr th {\n",
       "        vertical-align: top;\n",
       "    }\n",
       "\n",
       "    .dataframe thead th {\n",
       "        text-align: right;\n",
       "    }\n",
       "</style>\n",
       "<table border=\"1\" class=\"dataframe\">\n",
       "  <thead>\n",
       "    <tr style=\"text-align: right;\">\n",
       "      <th></th>\n",
       "      <th>CompanyName</th>\n",
       "      <th>Financial Department</th>\n",
       "      <th>Financial AccountGroup</th>\n",
       "      <th>VendorName</th>\n",
       "      <th>Amount Month 1</th>\n",
       "      <th>Amount Month 2</th>\n",
       "      <th>Amount Month 3</th>\n",
       "      <th>Amount Month 4</th>\n",
       "      <th>Category</th>\n",
       "    </tr>\n",
       "  </thead>\n",
       "  <tbody>\n",
       "    <tr>\n",
       "      <th>0</th>\n",
       "      <td>B0</td>\n",
       "      <td>D0</td>\n",
       "      <td>C0</td>\n",
       "      <td>E0</td>\n",
       "      <td>930.076541</td>\n",
       "      <td>897.167475</td>\n",
       "      <td>855.332105</td>\n",
       "      <td>837.175251</td>\n",
       "      <td>X0</td>\n",
       "    </tr>\n",
       "    <tr>\n",
       "      <th>1</th>\n",
       "      <td>B0</td>\n",
       "      <td>D0</td>\n",
       "      <td>C0</td>\n",
       "      <td>E1</td>\n",
       "      <td>929.726216</td>\n",
       "      <td>897.167475</td>\n",
       "      <td>856.459905</td>\n",
       "      <td>837.175251</td>\n",
       "      <td>X0</td>\n",
       "    </tr>\n",
       "    <tr>\n",
       "      <th>2</th>\n",
       "      <td>B0</td>\n",
       "      <td>D0</td>\n",
       "      <td>C0</td>\n",
       "      <td>E2</td>\n",
       "      <td>930.076541</td>\n",
       "      <td>897.167475</td>\n",
       "      <td>856.459905</td>\n",
       "      <td>837.096763</td>\n",
       "      <td>X0</td>\n",
       "    </tr>\n",
       "    <tr>\n",
       "      <th>3</th>\n",
       "      <td>B0</td>\n",
       "      <td>D0</td>\n",
       "      <td>C0</td>\n",
       "      <td>E3</td>\n",
       "      <td>926.513586</td>\n",
       "      <td>897.167475</td>\n",
       "      <td>856.459905</td>\n",
       "      <td>837.175251</td>\n",
       "      <td>X0</td>\n",
       "    </tr>\n",
       "    <tr>\n",
       "      <th>4</th>\n",
       "      <td>B0</td>\n",
       "      <td>D0</td>\n",
       "      <td>C1</td>\n",
       "      <td>E4</td>\n",
       "      <td>930.076541</td>\n",
       "      <td>897.167475</td>\n",
       "      <td>856.459905</td>\n",
       "      <td>836.399490</td>\n",
       "      <td>X0</td>\n",
       "    </tr>\n",
       "    <tr>\n",
       "      <th>...</th>\n",
       "      <td>...</td>\n",
       "      <td>...</td>\n",
       "      <td>...</td>\n",
       "      <td>...</td>\n",
       "      <td>...</td>\n",
       "      <td>...</td>\n",
       "      <td>...</td>\n",
       "      <td>...</td>\n",
       "      <td>...</td>\n",
       "    </tr>\n",
       "    <tr>\n",
       "      <th>4715</th>\n",
       "      <td>B8</td>\n",
       "      <td>D15</td>\n",
       "      <td>C4</td>\n",
       "      <td>E1505</td>\n",
       "      <td>816.780325</td>\n",
       "      <td>846.908198</td>\n",
       "      <td>747.866497</td>\n",
       "      <td>738.087166</td>\n",
       "      <td>NaN</td>\n",
       "    </tr>\n",
       "    <tr>\n",
       "      <th>4716</th>\n",
       "      <td>B8</td>\n",
       "      <td>D15</td>\n",
       "      <td>C4</td>\n",
       "      <td>E1506</td>\n",
       "      <td>743.441494</td>\n",
       "      <td>804.010713</td>\n",
       "      <td>666.495417</td>\n",
       "      <td>657.722959</td>\n",
       "      <td>NaN</td>\n",
       "    </tr>\n",
       "    <tr>\n",
       "      <th>4717</th>\n",
       "      <td>B8</td>\n",
       "      <td>D15</td>\n",
       "      <td>C4</td>\n",
       "      <td>E1507</td>\n",
       "      <td>801.134982</td>\n",
       "      <td>837.856874</td>\n",
       "      <td>794.708694</td>\n",
       "      <td>837.175251</td>\n",
       "      <td>NaN</td>\n",
       "    </tr>\n",
       "    <tr>\n",
       "      <th>4718</th>\n",
       "      <td>B8</td>\n",
       "      <td>D15</td>\n",
       "      <td>C4</td>\n",
       "      <td>E486</td>\n",
       "      <td>930.076541</td>\n",
       "      <td>897.167475</td>\n",
       "      <td>856.459905</td>\n",
       "      <td>832.326991</td>\n",
       "      <td>NaN</td>\n",
       "    </tr>\n",
       "    <tr>\n",
       "      <th>4719</th>\n",
       "      <td>B8</td>\n",
       "      <td>D15</td>\n",
       "      <td>C5</td>\n",
       "      <td>E32</td>\n",
       "      <td>930.076541</td>\n",
       "      <td>897.107541</td>\n",
       "      <td>856.459905</td>\n",
       "      <td>837.175251</td>\n",
       "      <td>NaN</td>\n",
       "    </tr>\n",
       "  </tbody>\n",
       "</table>\n",
       "<p>4720 rows × 9 columns</p>\n",
       "</div>"
      ],
      "text/plain": [
       "     CompanyName Financial Department Financial AccountGroup VendorName  \\\n",
       "0             B0                   D0                     C0         E0   \n",
       "1             B0                   D0                     C0         E1   \n",
       "2             B0                   D0                     C0         E2   \n",
       "3             B0                   D0                     C0         E3   \n",
       "4             B0                   D0                     C1         E4   \n",
       "...          ...                  ...                    ...        ...   \n",
       "4715          B8                  D15                     C4      E1505   \n",
       "4716          B8                  D15                     C4      E1506   \n",
       "4717          B8                  D15                     C4      E1507   \n",
       "4718          B8                  D15                     C4       E486   \n",
       "4719          B8                  D15                     C5        E32   \n",
       "\n",
       "      Amount Month 1  Amount Month 2  Amount Month 3  Amount Month 4 Category  \n",
       "0         930.076541      897.167475      855.332105      837.175251       X0  \n",
       "1         929.726216      897.167475      856.459905      837.175251       X0  \n",
       "2         930.076541      897.167475      856.459905      837.096763       X0  \n",
       "3         926.513586      897.167475      856.459905      837.175251       X0  \n",
       "4         930.076541      897.167475      856.459905      836.399490       X0  \n",
       "...              ...             ...             ...             ...      ...  \n",
       "4715      816.780325      846.908198      747.866497      738.087166      NaN  \n",
       "4716      743.441494      804.010713      666.495417      657.722959      NaN  \n",
       "4717      801.134982      837.856874      794.708694      837.175251      NaN  \n",
       "4718      930.076541      897.167475      856.459905      832.326991      NaN  \n",
       "4719      930.076541      897.107541      856.459905      837.175251      NaN  \n",
       "\n",
       "[4720 rows x 9 columns]"
      ]
     },
     "execution_count": 38,
     "metadata": {},
     "output_type": "execute_result"
    }
   ],
   "source": [
    "df = pd.read_excel('Atlantis motor bills.xlsx')\n",
    "df"
   ]
  },
  {
   "cell_type": "code",
   "execution_count": 39,
   "id": "898790f5",
   "metadata": {},
   "outputs": [
    {
     "data": {
      "image/png": "[encoded data removed]",
      "text/plain": [
       "<Figure size 432x288 with 1 Axes>"
      ]
     },
     "metadata": {
      "needs_background": "light"
     },
     "output_type": "display_data"
    },
    {
     "name": "stdout",
     "output_type": "stream",
     "text": [
      " Top 10 Values \n",
      " B3    1341\n",
      "B1    1134\n",
      "B8     548\n",
      "B2     347\n",
      "B5     346\n",
      "B7     330\n",
      "B0     303\n",
      "B4     224\n",
      "B6     147\n",
      "Name: CompanyName, dtype: int64\n",
      "****************************************************************************************************\n"
     ]
    },
    {
     "data": {
      "image/png": "[encoded data removed]",
      "text/plain": [
       "<Figure size 432x288 with 1 Axes>"
      ]
     },
     "metadata": {
      "needs_background": "light"
     },
     "output_type": "display_data"
    },
    {
     "name": "stdout",
     "output_type": "stream",
     "text": [
      " Top 10 Values \n",
      " D5     1085\n",
      "D1      984\n",
      "D2      478\n",
      "D11     316\n",
      "D0      266\n",
      "D18     219\n",
      "D3      216\n",
      "D9      186\n",
      "D17     176\n",
      "D8      166\n",
      "Name: Financial Department, dtype: int64\n",
      "****************************************************************************************************\n"
     ]
    },
    {
     "data": {
      "image/png": "[encoded data removed]",
      "text/plain": [
       "<Figure size 432x288 with 1 Axes>"
      ]
     },
     "metadata": {
      "needs_background": "light"
     },
     "output_type": "display_data"
    },
    {
     "name": "stdout",
     "output_type": "stream",
     "text": [
      " Top 10 Values \n",
      " C4     1129\n",
      "C0     1068\n",
      "C2      771\n",
      "C7      522\n",
      "C8      408\n",
      "C5      325\n",
      "C1      198\n",
      "C6      107\n",
      "C10      94\n",
      "C9       60\n",
      "Name: Financial AccountGroup, dtype: int64\n",
      "****************************************************************************************************\n"
     ]
    },
    {
     "data": {
      "image/png": "[encoded data removed]",
      "text/plain": [
       "<Figure size 432x288 with 1 Axes>"
      ]
     },
     "metadata": {
      "needs_background": "light"
     },
     "output_type": "display_data"
    },
    {
     "name": "stdout",
     "output_type": "stream",
     "text": [
      " Top 10 Values \n",
      " E528    70\n",
      "E25     48\n",
      "E30     48\n",
      "E29     45\n",
      "E9      40\n",
      "E28     38\n",
      "E32     36\n",
      "E26     30\n",
      "E31     24\n",
      "E8      23\n",
      "Name: VendorName, dtype: int64\n",
      "****************************************************************************************************\n"
     ]
    },
    {
     "data": {
      "image/png": "[encoded data removed]",
      "text/plain": [
       "<Figure size 432x288 with 1 Axes>"
      ]
     },
     "metadata": {
      "needs_background": "light"
     },
     "output_type": "display_data"
    },
    {
     "name": "stdout",
     "output_type": "stream",
     "text": [
      " Top 10 Values \n",
      " X0    3136\n",
      "X1     232\n",
      "X3     195\n",
      "X2     117\n",
      "X4      15\n",
      "Name: Category, dtype: int64\n",
      "****************************************************************************************************\n"
     ]
    }
   ],
   "source": [
    "#Categorical Values\n",
    "for i in df.select_dtypes(\"object\"):\n",
    "    plt.title(i)\n",
    "    sns.countplot(x=df[i], data=df)\n",
    "    plt.xlabel(i)\n",
    "    plt.ylabel(\"Count of Values\")\n",
    "    plt.show()\n",
    "\n",
    "    print(\" Top 10 Values \\n\",df[i].value_counts().sort_values(ascending = False)[:10])\n",
    "    print(\"*\"*100)\n"
   ]
  },
  {
   "cell_type": "code",
   "execution_count": null,
   "id": "f559f1cf",
   "metadata": {},
   "outputs": [],
   "source": []
  },
  {
   "cell_type": "markdown",
   "id": "010f5e73",
   "metadata": {},
   "source": [
    "### Spilt the data Into 2 sets of the data with not null and null values as Train and Test"
   ]
  },
  {
   "cell_type": "markdown",
   "id": "e7b063cb",
   "metadata": {},
   "source": [
    "## Train"
   ]
  },
  {
   "cell_type": "code",
   "execution_count": 40,
   "id": "d4b9c0b2",
   "metadata": {},
   "outputs": [],
   "source": [
    "pd.set_option('display.max_rows',1000)\n",
    "train = df.loc[:3694]"
   ]
  },
  {
   "cell_type": "code",
   "execution_count": 41,
   "id": "05301898",
   "metadata": {},
   "outputs": [
    {
     "data": {
      "text/html": [
       "<div>\n",
       "<style scoped>\n",
       "    .dataframe tbody tr th:only-of-type {\n",
       "        vertical-align: middle;\n",
       "    }\n",
       "\n",
       "    .dataframe tbody tr th {\n",
       "        vertical-align: top;\n",
       "    }\n",
       "\n",
       "    .dataframe thead th {\n",
       "        text-align: right;\n",
       "    }\n",
       "</style>\n",
       "<table border=\"1\" class=\"dataframe\">\n",
       "  <thead>\n",
       "    <tr style=\"text-align: right;\">\n",
       "      <th></th>\n",
       "      <th>CompanyName</th>\n",
       "      <th>Financial Department</th>\n",
       "      <th>Financial AccountGroup</th>\n",
       "      <th>VendorName</th>\n",
       "      <th>Amount Month 1</th>\n",
       "      <th>Amount Month 2</th>\n",
       "      <th>Amount Month 3</th>\n",
       "      <th>Amount Month 4</th>\n",
       "      <th>Category</th>\n",
       "    </tr>\n",
       "  </thead>\n",
       "  <tbody>\n",
       "    <tr>\n",
       "      <th>0</th>\n",
       "      <td>B0</td>\n",
       "      <td>D0</td>\n",
       "      <td>C0</td>\n",
       "      <td>E0</td>\n",
       "      <td>930.076541</td>\n",
       "      <td>897.167475</td>\n",
       "      <td>855.332105</td>\n",
       "      <td>837.175251</td>\n",
       "      <td>X0</td>\n",
       "    </tr>\n",
       "    <tr>\n",
       "      <th>1</th>\n",
       "      <td>B0</td>\n",
       "      <td>D0</td>\n",
       "      <td>C0</td>\n",
       "      <td>E1</td>\n",
       "      <td>929.726216</td>\n",
       "      <td>897.167475</td>\n",
       "      <td>856.459905</td>\n",
       "      <td>837.175251</td>\n",
       "      <td>X0</td>\n",
       "    </tr>\n",
       "    <tr>\n",
       "      <th>2</th>\n",
       "      <td>B0</td>\n",
       "      <td>D0</td>\n",
       "      <td>C0</td>\n",
       "      <td>E2</td>\n",
       "      <td>930.076541</td>\n",
       "      <td>897.167475</td>\n",
       "      <td>856.459905</td>\n",
       "      <td>837.096763</td>\n",
       "      <td>X0</td>\n",
       "    </tr>\n",
       "    <tr>\n",
       "      <th>3</th>\n",
       "      <td>B0</td>\n",
       "      <td>D0</td>\n",
       "      <td>C0</td>\n",
       "      <td>E3</td>\n",
       "      <td>926.513586</td>\n",
       "      <td>897.167475</td>\n",
       "      <td>856.459905</td>\n",
       "      <td>837.175251</td>\n",
       "      <td>X0</td>\n",
       "    </tr>\n",
       "    <tr>\n",
       "      <th>4</th>\n",
       "      <td>B0</td>\n",
       "      <td>D0</td>\n",
       "      <td>C1</td>\n",
       "      <td>E4</td>\n",
       "      <td>930.076541</td>\n",
       "      <td>897.167475</td>\n",
       "      <td>856.459905</td>\n",
       "      <td>836.399490</td>\n",
       "      <td>X0</td>\n",
       "    </tr>\n",
       "    <tr>\n",
       "      <th>...</th>\n",
       "      <td>...</td>\n",
       "      <td>...</td>\n",
       "      <td>...</td>\n",
       "      <td>...</td>\n",
       "      <td>...</td>\n",
       "      <td>...</td>\n",
       "      <td>...</td>\n",
       "      <td>...</td>\n",
       "      <td>...</td>\n",
       "    </tr>\n",
       "    <tr>\n",
       "      <th>3690</th>\n",
       "      <td>B5</td>\n",
       "      <td>D11</td>\n",
       "      <td>C5</td>\n",
       "      <td>E29</td>\n",
       "      <td>930.076541</td>\n",
       "      <td>897.167475</td>\n",
       "      <td>856.459905</td>\n",
       "      <td>830.824465</td>\n",
       "      <td>X1</td>\n",
       "    </tr>\n",
       "    <tr>\n",
       "      <th>3691</th>\n",
       "      <td>B5</td>\n",
       "      <td>D4</td>\n",
       "      <td>C9</td>\n",
       "      <td>E84</td>\n",
       "      <td>560.500815</td>\n",
       "      <td>662.705398</td>\n",
       "      <td>433.427933</td>\n",
       "      <td>423.173581</td>\n",
       "      <td>X1</td>\n",
       "    </tr>\n",
       "    <tr>\n",
       "      <th>3692</th>\n",
       "      <td>B5</td>\n",
       "      <td>D4</td>\n",
       "      <td>C9</td>\n",
       "      <td>E85</td>\n",
       "      <td>930.076541</td>\n",
       "      <td>897.167475</td>\n",
       "      <td>856.459905</td>\n",
       "      <td>837.175251</td>\n",
       "      <td>X0</td>\n",
       "    </tr>\n",
       "    <tr>\n",
       "      <th>3693</th>\n",
       "      <td>B5</td>\n",
       "      <td>D4</td>\n",
       "      <td>C9</td>\n",
       "      <td>E86</td>\n",
       "      <td>983.394865</td>\n",
       "      <td>914.078289</td>\n",
       "      <td>894.023282</td>\n",
       "      <td>867.127306</td>\n",
       "      <td>X1</td>\n",
       "    </tr>\n",
       "    <tr>\n",
       "      <th>3694</th>\n",
       "      <td>B5</td>\n",
       "      <td>D4</td>\n",
       "      <td>C9</td>\n",
       "      <td>E87</td>\n",
       "      <td>909.340532</td>\n",
       "      <td>897.167475</td>\n",
       "      <td>856.459905</td>\n",
       "      <td>808.989727</td>\n",
       "      <td>X1</td>\n",
       "    </tr>\n",
       "  </tbody>\n",
       "</table>\n",
       "<p>3695 rows × 9 columns</p>\n",
       "</div>"
      ],
      "text/plain": [
       "     CompanyName Financial Department Financial AccountGroup VendorName  \\\n",
       "0             B0                   D0                     C0         E0   \n",
       "1             B0                   D0                     C0         E1   \n",
       "2             B0                   D0                     C0         E2   \n",
       "3             B0                   D0                     C0         E3   \n",
       "4             B0                   D0                     C1         E4   \n",
       "...          ...                  ...                    ...        ...   \n",
       "3690          B5                  D11                     C5        E29   \n",
       "3691          B5                   D4                     C9        E84   \n",
       "3692          B5                   D4                     C9        E85   \n",
       "3693          B5                   D4                     C9        E86   \n",
       "3694          B5                   D4                     C9        E87   \n",
       "\n",
       "      Amount Month 1  Amount Month 2  Amount Month 3  Amount Month 4 Category  \n",
       "0         930.076541      897.167475      855.332105      837.175251       X0  \n",
       "1         929.726216      897.167475      856.459905      837.175251       X0  \n",
       "2         930.076541      897.167475      856.459905      837.096763       X0  \n",
       "3         926.513586      897.167475      856.459905      837.175251       X0  \n",
       "4         930.076541      897.167475      856.459905      836.399490       X0  \n",
       "...              ...             ...             ...             ...      ...  \n",
       "3690      930.076541      897.167475      856.459905      830.824465       X1  \n",
       "3691      560.500815      662.705398      433.427933      423.173581       X1  \n",
       "3692      930.076541      897.167475      856.459905      837.175251       X0  \n",
       "3693      983.394865      914.078289      894.023282      867.127306       X1  \n",
       "3694      909.340532      897.167475      856.459905      808.989727       X1  \n",
       "\n",
       "[3695 rows x 9 columns]"
      ]
     },
     "execution_count": 41,
     "metadata": {},
     "output_type": "execute_result"
    }
   ],
   "source": [
    "train"
   ]
  },
  {
   "cell_type": "code",
   "execution_count": 42,
   "id": "68e8a5b1",
   "metadata": {},
   "outputs": [
    {
     "data": {
      "image/png": "[encoded data removed]",
      "text/plain": [
       "<Figure size 432x288 with 1 Axes>"
      ]
     },
     "metadata": {
      "needs_background": "light"
     },
     "output_type": "display_data"
    },
    {
     "name": "stdout",
     "output_type": "stream",
     "text": [
      " Top 10 Values \n",
      " B3    1341\n",
      "B1    1134\n",
      "B2     347\n",
      "B5     346\n",
      "B0     303\n",
      "B4     224\n",
      "Name: CompanyName, dtype: int64\n",
      "****************************************************************************************************\n"
     ]
    },
    {
     "data": {
      "image/png": "[encoded data removed]",
      "text/plain": [
       "<Figure size 432x288 with 1 Axes>"
      ]
     },
     "metadata": {
      "needs_background": "light"
     },
     "output_type": "display_data"
    },
    {
     "name": "stdout",
     "output_type": "stream",
     "text": [
      " Top 10 Values \n",
      " D5     784\n",
      "D1     660\n",
      "D2     426\n",
      "D11    280\n",
      "D0     264\n",
      "D18    219\n",
      "D9     186\n",
      "D17    176\n",
      "D8     166\n",
      "D10     74\n",
      "Name: Financial Department, dtype: int64\n",
      "****************************************************************************************************\n"
     ]
    },
    {
     "data": {
      "image/png": "[encoded data removed]",
      "text/plain": [
       "<Figure size 432x288 with 1 Axes>"
      ]
     },
     "metadata": {
      "needs_background": "light"
     },
     "output_type": "display_data"
    },
    {
     "name": "stdout",
     "output_type": "stream",
     "text": [
      " Top 10 Values \n",
      " C4     1018\n",
      "C0      897\n",
      "C2      506\n",
      "C7      412\n",
      "C8      278\n",
      "C5      237\n",
      "C1       99\n",
      "C10      94\n",
      "C6       80\n",
      "C9       36\n",
      "Name: Financial AccountGroup, dtype: int64\n",
      "****************************************************************************************************\n"
     ]
    },
    {
     "data": {
      "image/png": "[encoded data removed]",
      "text/plain": [
       "<Figure size 432x288 with 1 Axes>"
      ]
     },
     "metadata": {
      "needs_background": "light"
     },
     "output_type": "display_data"
    },
    {
     "name": "stdout",
     "output_type": "stream",
     "text": [
      " Top 10 Values \n",
      " E528    55\n",
      "E30     38\n",
      "E25     35\n",
      "E29     32\n",
      "E28     28\n",
      "E32     22\n",
      "E26     22\n",
      "E9      21\n",
      "E68     18\n",
      "E31     16\n",
      "Name: VendorName, dtype: int64\n",
      "****************************************************************************************************\n"
     ]
    },
    {
     "data": {
      "image/png": "[encoded data removed]",
      "text/plain": [
       "<Figure size 432x288 with 1 Axes>"
      ]
     },
     "metadata": {
      "needs_background": "light"
     },
     "output_type": "display_data"
    },
    {
     "name": "stdout",
     "output_type": "stream",
     "text": [
      " Top 10 Values \n",
      " X0    3136\n",
      "X1     232\n",
      "X3     195\n",
      "X2     117\n",
      "X4      15\n",
      "Name: Category, dtype: int64\n",
      "****************************************************************************************************\n"
     ]
    }
   ],
   "source": [
    "#Categorical Values\n",
    "for i in train.select_dtypes(\"object\"):\n",
    "    plt.title(i)\n",
    "    sns.countplot(x=train[i], data=train)\n",
    "    plt.xlabel(i)\n",
    "    plt.ylabel(\"Count of Values\")\n",
    "    plt.show()\n",
    "\n",
    "    print(\" Top 10 Values \\n\",train[i].value_counts().sort_values(ascending = False)[:10])\n",
    "    print(\"*\"*100)"
   ]
  },
  {
   "cell_type": "code",
   "execution_count": null,
   "id": "7d3d8c98",
   "metadata": {},
   "outputs": [],
   "source": []
  },
  {
   "cell_type": "code",
   "execution_count": 43,
   "id": "66a1d74f",
   "metadata": {},
   "outputs": [
    {
     "name": "stdout",
     "output_type": "stream",
     "text": [
      "CompanyName                object\n",
      "Financial Department       object\n",
      "Financial AccountGroup     object\n",
      "VendorName                 object\n",
      "Amount Month 1            float64\n",
      "Amount Month 2            float64\n",
      "Amount Month 3            float64\n",
      "Amount Month 4            float64\n",
      "Category                   object\n",
      "dtype: object\n",
      "       Amount Month 1  Amount Month 2  Amount Month 3  Amount Month 4\n",
      "count     3695.000000    3.694000e+03     3695.000000    3.694000e+03\n",
      "mean       911.810327    8.865520e+02      831.308472    8.141451e+02\n",
      "std         62.004794    4.660137e+01       65.400269    5.779072e+01\n",
      "min          0.000000    4.821640e-14        0.000000    4.821640e-14\n",
      "25%        928.297568    8.961401e+02      843.234518    8.248068e+02\n",
      "50%        930.076541    8.971675e+02      856.189903    8.366967e+02\n",
      "75%        930.076541    8.971675e+02      856.459905    8.371753e+02\n",
      "max       1163.521001    1.303063e+03     1237.874227    1.116251e+03\n",
      "CompanyName               0\n",
      "Financial Department      0\n",
      "Financial AccountGroup    0\n",
      "VendorName                0\n",
      "Amount Month 1            0\n",
      "Amount Month 2            1\n",
      "Amount Month 3            0\n",
      "Amount Month 4            1\n",
      "Category                  0\n",
      "dtype: int64\n"
     ]
    }
   ],
   "source": [
    "# Check for missing values and data distribution\n",
    "# Data Analysis and Preprocessing\n",
    "print(train.dtypes) # Check datatype of each column\n",
    "print(train.describe()) # Summary statistics of numerical columns\n",
    "print(train.isnull().sum())"
   ]
  },
  {
   "cell_type": "code",
   "execution_count": 44,
   "id": "089b4f78",
   "metadata": {},
   "outputs": [],
   "source": [
    "# Impute missing values (mean, median, mode) for the \"Amount Month\" columns\n",
    "train[\"Amount Month 2\"].fillna(train[\"Amount Month 2\"].median(), inplace=True)\n",
    "train[\"Amount Month 4\"].fillna(train[\"Amount Month 4\"].median(), inplace=True)"
   ]
  },
  {
   "cell_type": "code",
   "execution_count": 45,
   "id": "749a7049",
   "metadata": {},
   "outputs": [
    {
     "name": "stdout",
     "output_type": "stream",
     "text": [
      "CompanyName               0\n",
      "Financial Department      0\n",
      "Financial AccountGroup    0\n",
      "VendorName                0\n",
      "Amount Month 1            0\n",
      "Amount Month 2            0\n",
      "Amount Month 3            0\n",
      "Amount Month 4            0\n",
      "Category                  0\n",
      "dtype: int64\n"
     ]
    }
   ],
   "source": [
    "print(train.isnull().sum())"
   ]
  },
  {
   "cell_type": "code",
   "execution_count": 46,
   "id": "23754ba9",
   "metadata": {},
   "outputs": [],
   "source": [
    "# Encode categorical variables using LabelEncoder\n",
    "le = LabelEncoder()\n",
    "train[\"CompanyName\"] = le.fit_transform(train[\"CompanyName\"])\n",
    "train[\"VendorName\"] = le.fit_transform(train[\"VendorName\"])\n",
    "train[\"Financial Department\"] = le.fit_transform(train[\"Financial Department\"])\n",
    "train[\"Financial AccountGroup\"] = le.fit_transform(train[\"Financial AccountGroup\"])\n",
    "train[\"Category\"] = le.fit_transform(train[\"Category\"].astype(str))"
   ]
  },
  {
   "cell_type": "code",
   "execution_count": 47,
   "id": "caf77c0f",
   "metadata": {},
   "outputs": [],
   "source": [
    "# Scale numerical features using StandardScaler\n",
    "scaler = StandardScaler()\n",
    "train[[\"Amount Month 1\", \"Amount Month 2\", \"Amount Month 3\", \"Amount Month 4\"]] = scaler.fit_transform(train[[\"Amount Month 1\", \"Amount Month 2\", \"Amount Month 3\", \"Amount Month 4\"]])"
   ]
  },
  {
   "cell_type": "code",
   "execution_count": 48,
   "id": "d038d73c",
   "metadata": {},
   "outputs": [
    {
     "data": {
      "text/html": [
       "<div>\n",
       "<style scoped>\n",
       "    .dataframe tbody tr th:only-of-type {\n",
       "        vertical-align: middle;\n",
       "    }\n",
       "\n",
       "    .dataframe tbody tr th {\n",
       "        vertical-align: top;\n",
       "    }\n",
       "\n",
       "    .dataframe thead th {\n",
       "        text-align: right;\n",
       "    }\n",
       "</style>\n",
       "<table border=\"1\" class=\"dataframe\">\n",
       "  <thead>\n",
       "    <tr style=\"text-align: right;\">\n",
       "      <th></th>\n",
       "      <th>CompanyName</th>\n",
       "      <th>Financial Department</th>\n",
       "      <th>Financial AccountGroup</th>\n",
       "      <th>Amount Month 1</th>\n",
       "      <th>Amount Month 2</th>\n",
       "      <th>Amount Month 3</th>\n",
       "      <th>Amount Month 4</th>\n",
       "      <th>Category</th>\n",
       "    </tr>\n",
       "  </thead>\n",
       "  <tbody>\n",
       "    <tr>\n",
       "      <th>0</th>\n",
       "      <td>0</td>\n",
       "      <td>0</td>\n",
       "      <td>0</td>\n",
       "      <td>0.294633</td>\n",
       "      <td>0.227791</td>\n",
       "      <td>0.367382</td>\n",
       "      <td>0.398503</td>\n",
       "      <td>0</td>\n",
       "    </tr>\n",
       "    <tr>\n",
       "      <th>1</th>\n",
       "      <td>0</td>\n",
       "      <td>0</td>\n",
       "      <td>0</td>\n",
       "      <td>0.288983</td>\n",
       "      <td>0.227791</td>\n",
       "      <td>0.384629</td>\n",
       "      <td>0.398503</td>\n",
       "      <td>0</td>\n",
       "    </tr>\n",
       "    <tr>\n",
       "      <th>2</th>\n",
       "      <td>0</td>\n",
       "      <td>0</td>\n",
       "      <td>0</td>\n",
       "      <td>0.294633</td>\n",
       "      <td>0.227791</td>\n",
       "      <td>0.384629</td>\n",
       "      <td>0.397145</td>\n",
       "      <td>0</td>\n",
       "    </tr>\n",
       "    <tr>\n",
       "      <th>3</th>\n",
       "      <td>0</td>\n",
       "      <td>0</td>\n",
       "      <td>0</td>\n",
       "      <td>0.237163</td>\n",
       "      <td>0.227791</td>\n",
       "      <td>0.384629</td>\n",
       "      <td>0.398503</td>\n",
       "      <td>0</td>\n",
       "    </tr>\n",
       "    <tr>\n",
       "      <th>4</th>\n",
       "      <td>0</td>\n",
       "      <td>0</td>\n",
       "      <td>1</td>\n",
       "      <td>0.294633</td>\n",
       "      <td>0.227791</td>\n",
       "      <td>0.384629</td>\n",
       "      <td>0.385076</td>\n",
       "      <td>0</td>\n",
       "    </tr>\n",
       "    <tr>\n",
       "      <th>...</th>\n",
       "      <td>...</td>\n",
       "      <td>...</td>\n",
       "      <td>...</td>\n",
       "      <td>...</td>\n",
       "      <td>...</td>\n",
       "      <td>...</td>\n",
       "      <td>...</td>\n",
       "      <td>...</td>\n",
       "    </tr>\n",
       "    <tr>\n",
       "      <th>3690</th>\n",
       "      <td>5</td>\n",
       "      <td>3</td>\n",
       "      <td>8</td>\n",
       "      <td>0.294633</td>\n",
       "      <td>0.227791</td>\n",
       "      <td>0.384629</td>\n",
       "      <td>0.288583</td>\n",
       "      <td>1</td>\n",
       "    </tr>\n",
       "    <tr>\n",
       "      <th>3691</th>\n",
       "      <td>5</td>\n",
       "      <td>17</td>\n",
       "      <td>12</td>\n",
       "      <td>-5.666611</td>\n",
       "      <td>-4.804763</td>\n",
       "      <td>-6.084599</td>\n",
       "      <td>-6.767097</td>\n",
       "      <td>1</td>\n",
       "    </tr>\n",
       "    <tr>\n",
       "      <th>3692</th>\n",
       "      <td>5</td>\n",
       "      <td>17</td>\n",
       "      <td>12</td>\n",
       "      <td>0.294633</td>\n",
       "      <td>0.227791</td>\n",
       "      <td>0.384629</td>\n",
       "      <td>0.398503</td>\n",
       "      <td>0</td>\n",
       "    </tr>\n",
       "    <tr>\n",
       "      <th>3693</th>\n",
       "      <td>5</td>\n",
       "      <td>17</td>\n",
       "      <td>12</td>\n",
       "      <td>1.154656</td>\n",
       "      <td>0.590769</td>\n",
       "      <td>0.959068</td>\n",
       "      <td>0.916918</td>\n",
       "      <td>1</td>\n",
       "    </tr>\n",
       "    <tr>\n",
       "      <th>3694</th>\n",
       "      <td>5</td>\n",
       "      <td>17</td>\n",
       "      <td>12</td>\n",
       "      <td>-0.039838</td>\n",
       "      <td>0.227791</td>\n",
       "      <td>0.384629</td>\n",
       "      <td>-0.089336</td>\n",
       "      <td>1</td>\n",
       "    </tr>\n",
       "  </tbody>\n",
       "</table>\n",
       "<p>3695 rows × 8 columns</p>\n",
       "</div>"
      ],
      "text/plain": [
       "      CompanyName  Financial Department  Financial AccountGroup  \\\n",
       "0               0                     0                       0   \n",
       "1               0                     0                       0   \n",
       "2               0                     0                       0   \n",
       "3               0                     0                       0   \n",
       "4               0                     0                       1   \n",
       "...           ...                   ...                     ...   \n",
       "3690            5                     3                       8   \n",
       "3691            5                    17                      12   \n",
       "3692            5                    17                      12   \n",
       "3693            5                    17                      12   \n",
       "3694            5                    17                      12   \n",
       "\n",
       "      Amount Month 1  Amount Month 2  Amount Month 3  Amount Month 4  Category  \n",
       "0           0.294633        0.227791        0.367382        0.398503         0  \n",
       "1           0.288983        0.227791        0.384629        0.398503         0  \n",
       "2           0.294633        0.227791        0.384629        0.397145         0  \n",
       "3           0.237163        0.227791        0.384629        0.398503         0  \n",
       "4           0.294633        0.227791        0.384629        0.385076         0  \n",
       "...              ...             ...             ...             ...       ...  \n",
       "3690        0.294633        0.227791        0.384629        0.288583         1  \n",
       "3691       -5.666611       -4.804763       -6.084599       -6.767097         1  \n",
       "3692        0.294633        0.227791        0.384629        0.398503         0  \n",
       "3693        1.154656        0.590769        0.959068        0.916918         1  \n",
       "3694       -0.039838        0.227791        0.384629       -0.089336         1  \n",
       "\n",
       "[3695 rows x 8 columns]"
      ]
     },
     "execution_count": 48,
     "metadata": {},
     "output_type": "execute_result"
    }
   ],
   "source": [
    "train.drop(\"VendorName\",inplace=True,axis =1)\n",
    "train"
   ]
  },
  {
   "cell_type": "code",
   "execution_count": null,
   "id": "b4e1e5d4",
   "metadata": {},
   "outputs": [],
   "source": []
  },
  {
   "cell_type": "code",
   "execution_count": 49,
   "id": "dffd8278",
   "metadata": {},
   "outputs": [],
   "source": [
    "# Split the dataset into training and testing datasets\n",
    "\n",
    "X = train.drop(\"Category\", axis=1)\n",
    "y = train[\"Category\"]\n",
    "\n",
    "# X_train, X_test, y_train, y_test = train_test_split(X, y, test_size=0.2, random_state=42)"
   ]
  },
  {
   "cell_type": "code",
   "execution_count": 50,
   "id": "6727f715",
   "metadata": {},
   "outputs": [
    {
     "data": {
      "text/plain": [
       "0    3136\n",
       "1     232\n",
       "3     195\n",
       "2     117\n",
       "4      15\n",
       "Name: Category, dtype: int64"
      ]
     },
     "execution_count": 50,
     "metadata": {},
     "output_type": "execute_result"
    }
   ],
   "source": [
    "y.value_counts()"
   ]
  },
  {
   "cell_type": "code",
   "execution_count": null,
   "id": "85b2ad96",
   "metadata": {},
   "outputs": [],
   "source": []
  },
  {
   "cell_type": "code",
   "execution_count": 51,
   "id": "a05269aa",
   "metadata": {},
   "outputs": [],
   "source": [
    "from imblearn.combine import SMOTETomek\n",
    "from imblearn.under_sampling import NearMiss"
   ]
  },
  {
   "cell_type": "markdown",
   "id": "8900ee88",
   "metadata": {},
   "source": [
    "## Oversampling to balance the imbalance dataset"
   ]
  },
  {
   "cell_type": "code",
   "execution_count": 52,
   "id": "a3c82f1f",
   "metadata": {},
   "outputs": [
    {
     "name": "stdout",
     "output_type": "stream",
     "text": [
      "Class=0, n=3136 (84.871%)\n",
      "Class=1, n=232 (6.279%)\n",
      "Class=2, n=117 (3.166%)\n",
      "Class=3, n=195 (5.277%)\n",
      "Class=4, n=15 (0.406%)\n"
     ]
    },
    {
     "data": {
      "image/png": "[encoded data removed]",
      "text/plain": [
       "<Figure size 432x288 with 1 Axes>"
      ]
     },
     "metadata": {
      "needs_background": "light"
     },
     "output_type": "display_data"
    }
   ],
   "source": [
    "# load and summarize the dataset\n",
    "from collections import Counter\n",
    "from matplotlib import pyplot\n",
    "from sklearn.preprocessing import LabelEncoder\n",
    "train\n",
    "data = train.values\n",
    "# split into input and output elements\n",
    "X, y = data[:, :-1], data[:, -1]\n",
    "# label encode the target variable\n",
    "y = LabelEncoder().fit_transform(y)\n",
    "# summarize distribution\n",
    "counter = Counter(y)\n",
    "for k,v in counter.items():\n",
    " per = v / len(y) * 100\n",
    " print('Class=%d, n=%d (%.3f%%)' % (k, v, per))\n",
    "# plot the distribution\n",
    "pyplot.bar(counter.keys(), counter.values())\n",
    "pyplot.show()"
   ]
  },
  {
   "cell_type": "code",
   "execution_count": 53,
   "id": "47b1e5a5",
   "metadata": {},
   "outputs": [
    {
     "name": "stdout",
     "output_type": "stream",
     "text": [
      "Class=0, n=3136 (20.000%)\n",
      "Class=1, n=3136 (20.000%)\n",
      "Class=2, n=3136 (20.000%)\n",
      "Class=3, n=3136 (20.000%)\n",
      "Class=4, n=3136 (20.000%)\n"
     ]
    },
    {
     "data": {
      "image/png": "[encoded data removed]",
      "text/plain": [
       "<Figure size 432x288 with 1 Axes>"
      ]
     },
     "metadata": {
      "needs_background": "light"
     },
     "output_type": "display_data"
    }
   ],
   "source": [
    "# example of oversampling a multi-class classification dataset\n",
    "from imblearn.over_sampling import SMOTE\n",
    "from collections import Counter\n",
    "from matplotlib import pyplot\n",
    "from sklearn.preprocessing import LabelEncoder\n",
    "train\n",
    "data = train.values\n",
    "# split into input and output elements\n",
    "X, y = data[:, :-1], data[:, -1]\n",
    "# label encode the target variable\n",
    "y = LabelEncoder().fit_transform(y)\n",
    "# transform the dataset\n",
    "oversample = SMOTE()\n",
    "X, y = oversample.fit_resample(X, y)\n",
    "# summarize distribution\n",
    "counter = Counter(y)\n",
    "for k,v in counter.items():\n",
    " per = v / len(y) * 100\n",
    " print('Class=%d, n=%d (%.3f%%)' % (k, v, per))\n",
    "# plot the distribution\n",
    "pyplot.bar(counter.keys(), counter.values())\n",
    "pyplot.show()"
   ]
  },
  {
   "cell_type": "code",
   "execution_count": 54,
   "id": "e752ea77",
   "metadata": {},
   "outputs": [],
   "source": [
    "# Split data into train and test sets\n",
    "X = train.drop('Category', axis=1)\n",
    "y = train['Category']\n",
    "X_train, X_test, y_train, y_test = train_test_split(X, y, test_size=0.2, random_state=42)"
   ]
  },
  {
   "cell_type": "code",
   "execution_count": 55,
   "id": "bd09bd7f",
   "metadata": {},
   "outputs": [
    {
     "data": {
      "text/html": [
       "<style>#sk-container-id-2 {color: black;background-color: white;}#sk-container-id-2 pre{padding: 0;}#sk-container-id-2 div.sk-toggleable {background-color: white;}#sk-container-id-2 label.sk-toggleable__label {cursor: pointer;display: block;width: 100%;margin-bottom: 0;padding: 0.3em;box-sizing: border-box;text-align: center;}#sk-container-id-2 label.sk-toggleable__label-arrow:before {content: \"▸\";float: left;margin-right: 0.25em;color: #696969;}#sk-container-id-2 label.sk-toggleable__label-arrow:hover:before {color: black;}#sk-container-id-2 div.sk-estimator:hover label.sk-toggleable__label-arrow:before {color: black;}#sk-container-id-2 div.sk-toggleable__content {max-height: 0;max-width: 0;overflow: hidden;text-align: left;background-color: #f0f8ff;}#sk-container-id-2 div.sk-toggleable__content pre {margin: 0.2em;color: black;border-radius: 0.25em;background-color: #f0f8ff;}#sk-container-id-2 input.sk-toggleable__control:checked~div.sk-toggleable__content {max-height: 200px;max-width: 100%;overflow: auto;}#sk-container-id-2 input.sk-toggleable__control:checked~label.sk-toggleable__label-arrow:before {content: \"▾\";}#sk-container-id-2 div.sk-estimator input.sk-toggleable__control:checked~label.sk-toggleable__label {background-color: #d4ebff;}#sk-container-id-2 div.sk-label input.sk-toggleable__control:checked~label.sk-toggleable__label {background-color: #d4ebff;}#sk-container-id-2 input.sk-hidden--visually {border: 0;clip: rect(1px 1px 1px 1px);clip: rect(1px, 1px, 1px, 1px);height: 1px;margin: -1px;overflow: hidden;padding: 0;position: absolute;width: 1px;}#sk-container-id-2 div.sk-estimator {font-family: monospace;background-color: #f0f8ff;border: 1px dotted black;border-radius: 0.25em;box-sizing: border-box;margin-bottom: 0.5em;}#sk-container-id-2 div.sk-estimator:hover {background-color: #d4ebff;}#sk-container-id-2 div.sk-parallel-item::after {content: \"\";width: 100%;border-bottom: 1px solid gray;flex-grow: 1;}#sk-container-id-2 div.sk-label:hover label.sk-toggleable__label {background-color: #d4ebff;}#sk-container-id-2 div.sk-serial::before {content: \"\";position: absolute;border-left: 1px solid gray;box-sizing: border-box;top: 0;bottom: 0;left: 50%;z-index: 0;}#sk-container-id-2 div.sk-serial {display: flex;flex-direction: column;align-items: center;background-color: white;padding-right: 0.2em;padding-left: 0.2em;position: relative;}#sk-container-id-2 div.sk-item {position: relative;z-index: 1;}#sk-container-id-2 div.sk-parallel {display: flex;align-items: stretch;justify-content: center;background-color: white;position: relative;}#sk-container-id-2 div.sk-item::before, #sk-container-id-2 div.sk-parallel-item::before {content: \"\";position: absolute;border-left: 1px solid gray;box-sizing: border-box;top: 0;bottom: 0;left: 50%;z-index: -1;}#sk-container-id-2 div.sk-parallel-item {display: flex;flex-direction: column;z-index: 1;position: relative;background-color: white;}#sk-container-id-2 div.sk-parallel-item:first-child::after {align-self: flex-end;width: 50%;}#sk-container-id-2 div.sk-parallel-item:last-child::after {align-self: flex-start;width: 50%;}#sk-container-id-2 div.sk-parallel-item:only-child::after {width: 0;}#sk-container-id-2 div.sk-dashed-wrapped {border: 1px dashed gray;margin: 0 0.4em 0.5em 0.4em;box-sizing: border-box;padding-bottom: 0.4em;background-color: white;}#sk-container-id-2 div.sk-label label {font-family: monospace;font-weight: bold;display: inline-block;line-height: 1.2em;}#sk-container-id-2 div.sk-label-container {text-align: center;}#sk-container-id-2 div.sk-container {/* jupyter's `normalize.less` sets `[hidden] { display: none; }` but bootstrap.min.css set `[hidden] { display: none !important; }` so we also need the `!important` here to be able to override the default hidden behavior on the sphinx rendered scikit-learn.org. See: https://github.com/scikit-learn/scikit-learn/issues/21755 */display: inline-block !important;position: relative;}#sk-container-id-2 div.sk-text-repr-fallback {display: none;}</style><div id=\"sk-container-id-2\" class=\"sk-top-container\"><div class=\"sk-text-repr-fallback\"><pre>RandomForestClassifier()</pre><b>In a Jupyter environment, please rerun this cell to show the HTML representation or trust the notebook. <br />On GitHub, the HTML representation is unable to render, please try loading this page with nbviewer.org.</b></div><div class=\"sk-container\" hidden><div class=\"sk-item\"><div class=\"sk-estimator sk-toggleable\"><input class=\"sk-toggleable__control sk-hidden--visually\" id=\"sk-estimator-id-2\" type=\"checkbox\" checked><label for=\"sk-estimator-id-2\" class=\"sk-toggleable__label sk-toggleable__label-arrow\">RandomForestClassifier</label><div class=\"sk-toggleable__content\"><pre>RandomForestClassifier()</pre></div></div></div></div></div>"
      ],
      "text/plain": [
       "RandomForestClassifier()"
      ]
     },
     "execution_count": 55,
     "metadata": {},
     "output_type": "execute_result"
    }
   ],
   "source": [
    "#fiting the model\n",
    "rfc = RandomForestClassifier()\n",
    "rfc.fit(X_train,y_train)"
   ]
  },
  {
   "cell_type": "code",
   "execution_count": 56,
   "id": "b9699fa8",
   "metadata": {},
   "outputs": [
    {
     "data": {
      "text/plain": [
       "array([0, 0, 0, 0, 0, 0, 0, 0, 0, 0, 0, 0, 0, 0, 0, 0, 0, 0, 2, 0, 0, 2,\n",
       "       0, 0, 0, 2, 0, 0, 0, 0, 0, 0, 0, 0, 0, 0, 2, 0, 1, 1, 0, 0, 0, 0,\n",
       "       0, 0, 0, 0, 0, 0, 0, 0, 0, 0, 0, 0, 0, 0, 0, 0, 0, 0, 0, 0, 3, 1,\n",
       "       1, 0, 0, 0, 0, 0, 0, 0, 0, 0, 0, 0, 0, 0, 0, 0, 0, 0, 0, 0, 3, 0,\n",
       "       0, 0, 0, 1, 0, 0, 0, 0, 0, 0, 0, 0, 0, 0, 0, 0, 0, 0, 1, 0, 0, 0,\n",
       "       0, 0, 0, 3, 0, 0, 0, 0, 0, 0, 0, 0, 0, 0, 0, 0, 0, 0, 0, 0, 0, 0,\n",
       "       0, 0, 0, 0, 0, 0, 0, 0, 0, 3, 0, 0, 0, 0, 0, 0, 0, 0, 0, 3, 2, 0,\n",
       "       0, 0, 0, 0, 0, 2, 0, 0, 0, 0, 0, 0, 3, 0, 0, 0, 1, 1, 0, 0, 0, 0,\n",
       "       0, 0, 0, 1, 0, 0, 0, 0, 0, 0, 0, 0, 0, 0, 0, 2, 0, 0, 2, 0, 0, 0,\n",
       "       0, 0, 0, 0, 0, 0, 0, 0, 0, 0, 0, 0, 1, 0, 0, 0, 0, 0, 0, 0, 0, 3,\n",
       "       0, 0, 0, 0, 0, 0, 0, 0, 0, 0, 0, 0, 0, 0, 0, 0, 0, 0, 0, 2, 0, 0,\n",
       "       2, 0, 2, 0, 0, 0, 0, 0, 0, 0, 0, 0, 0, 3, 0, 0, 0, 3, 0, 0, 3, 0,\n",
       "       0, 0, 0, 0, 0, 0, 0, 0, 1, 3, 0, 0, 2, 3, 2, 3, 0, 0, 0, 0, 0, 0,\n",
       "       0, 0, 0, 1, 0, 1, 0, 2, 0, 0, 0, 0, 0, 0, 0, 0, 3, 0, 0, 3, 0, 0,\n",
       "       0, 0, 0, 0, 0, 0, 0, 0, 2, 0, 0, 2, 0, 0, 0, 0, 0, 0, 0, 0, 0, 1,\n",
       "       0, 0, 0, 0, 0, 0, 2, 0, 1, 0, 0, 0, 1, 0, 0, 0, 0, 0, 0, 0, 0, 0,\n",
       "       0, 0, 0, 0, 2, 0, 0, 1, 0, 0, 0, 0, 0, 0, 0, 0, 0, 0, 0, 0, 0, 0,\n",
       "       0, 0, 0, 0, 0, 4, 0, 0, 0, 0, 0, 0, 0, 0, 0, 0, 0, 0, 0, 0, 0, 0,\n",
       "       1, 0, 0, 0, 0, 0, 3, 0, 0, 0, 0, 1, 0, 0, 0, 0, 1, 0, 0, 0, 0, 0,\n",
       "       0, 0, 0, 0, 0, 0, 0, 1, 0, 0, 0, 0, 0, 0, 0, 0, 0, 0, 1, 0, 0, 0,\n",
       "       0, 0, 0, 0, 0, 0, 0, 0, 1, 0, 3, 0, 0, 3, 0, 0, 2, 0, 0, 0, 0, 0,\n",
       "       0, 0, 0, 0, 0, 1, 0, 0, 0, 1, 0, 0, 0, 0, 0, 3, 0, 0, 4, 0, 0, 0,\n",
       "       0, 0, 0, 0, 0, 0, 0, 0, 0, 0, 0, 0, 0, 0, 0, 0, 0, 0, 0, 0, 0, 2,\n",
       "       0, 0, 0, 0, 0, 0, 0, 0, 0, 0, 0, 0, 0, 0, 0, 0, 0, 0, 0, 0, 0, 0,\n",
       "       0, 0, 0, 0, 0, 0, 0, 0, 3, 0, 0, 0, 0, 0, 2, 0, 2, 0, 0, 0, 0, 0,\n",
       "       1, 0, 0, 0, 0, 0, 0, 0, 0, 0, 0, 0, 0, 1, 1, 0, 0, 0, 0, 0, 0, 0,\n",
       "       0, 0, 0, 0, 1, 1, 0, 0, 3, 0, 0, 0, 0, 0, 3, 0, 0, 0, 0, 0, 0, 0,\n",
       "       0, 0, 0, 2, 0, 3, 0, 0, 0, 0, 2, 0, 0, 0, 0, 0, 0, 0, 0, 0, 0, 0,\n",
       "       3, 0, 0, 0, 0, 0, 0, 0, 0, 0, 0, 0, 0, 0, 2, 1, 0, 0, 0, 0, 1, 0,\n",
       "       0, 0, 0, 0, 0, 0, 0, 0, 0, 0, 0, 0, 0, 0, 0, 0, 0, 0, 0, 0, 1, 0,\n",
       "       0, 0, 0, 0, 0, 0, 2, 0, 0, 0, 1, 0, 0, 0, 0, 3, 3, 0, 0, 2, 0, 0,\n",
       "       0, 0, 0, 0, 0, 0, 0, 0, 1, 0, 0, 0, 0, 1, 0, 0, 0, 0, 0, 0, 0, 0,\n",
       "       0, 0, 0, 3, 0, 3, 0, 0, 0, 0, 0, 0, 0, 0, 0, 0, 0, 0, 0, 0, 0, 0,\n",
       "       0, 0, 0, 0, 0, 0, 0, 0, 0, 3, 0, 0, 0])"
      ]
     },
     "execution_count": 56,
     "metadata": {},
     "output_type": "execute_result"
    }
   ],
   "source": [
    "y_pred = rfc.predict(X_test)\n",
    "y_pred"
   ]
  },
  {
   "cell_type": "code",
   "execution_count": 57,
   "id": "187158c8",
   "metadata": {},
   "outputs": [
    {
     "name": "stdout",
     "output_type": "stream",
     "text": [
      "Accuracy Score:  0.9715832205683356\n",
      "Classification Report: \n",
      "               precision    recall  f1-score   support\n",
      "\n",
      "           0       0.98      1.00      0.99       632\n",
      "           1       0.97      0.81      0.89        43\n",
      "           2       0.93      0.96      0.94        26\n",
      "           3       0.93      0.75      0.83        36\n",
      "           4       1.00      1.00      1.00         2\n",
      "\n",
      "    accuracy                           0.97       739\n",
      "   macro avg       0.96      0.90      0.93       739\n",
      "weighted avg       0.97      0.97      0.97       739\n",
      "\n"
     ]
    }
   ],
   "source": [
    "print(\"Accuracy Score: \", accuracy_score(y_test, y_pred))\n",
    "print(\"Classification Report: \\n\", classification_report(y_test, y_pred))"
   ]
  },
  {
   "cell_type": "code",
   "execution_count": null,
   "id": "e6d95827",
   "metadata": {},
   "outputs": [],
   "source": []
  },
  {
   "cell_type": "code",
   "execution_count": 58,
   "id": "ebad62ce",
   "metadata": {},
   "outputs": [
    {
     "name": "stdout",
     "output_type": "stream",
     "text": [
      "GridSearchCV(cv=5, estimator=RandomForestClassifier(),\n",
      "             param_grid={'max_depth': [5, 10, 15, 20],\n",
      "                         'min_samples_split': [2, 5, 10],\n",
      "                         'n_estimators': [100, 200, 300]})\n",
      "Best Hyperparameters:  {'max_depth': 5, 'min_samples_split': 5, 'n_estimators': 100}\n",
      "Best Score:  0.8738836265223275\n"
     ]
    }
   ],
   "source": [
    "# Train the Random Forest Classifier on the training dataset\n",
    "\n",
    "param_grid = {'n_estimators': [100, 200, 300], 'max_depth': [5, 10, 15, 20], 'min_samples_split': [2, 5, 10]}\n",
    "grid_search = GridSearchCV(rfc, param_grid, cv=5)\n",
    "grid_search.fit(X, y)\n",
    "print(grid_search)\n",
    "\n",
    "# Print the best hyperparameters and the best score\n",
    "print(\"Best Hyperparameters: \", grid_search.best_params_)\n",
    "print(\"Best Score: \", grid_search.best_score_)\n"
   ]
  },
  {
   "cell_type": "code",
   "execution_count": 59,
   "id": "01e99a1a",
   "metadata": {},
   "outputs": [
    {
     "name": "stdout",
     "output_type": "stream",
     "text": [
      "Accuracy Score:  0.9607577807848444\n",
      "Classification Report: \n",
      "               precision    recall  f1-score   support\n",
      "\n",
      "           0       0.96      1.00      0.98       632\n",
      "           1       1.00      0.81      0.90        43\n",
      "           2       0.96      0.88      0.92        26\n",
      "           3       0.88      0.61      0.72        36\n",
      "           4       1.00      0.50      0.67         2\n",
      "\n",
      "    accuracy                           0.96       739\n",
      "   macro avg       0.96      0.76      0.84       739\n",
      "weighted avg       0.96      0.96      0.96       739\n",
      "\n"
     ]
    }
   ],
   "source": [
    "# Evaluate the model's performance on the testing dataset\n",
    "parameters = {'max_depth': 15, 'min_samples_split': 10, 'n_estimators': 100}\n",
    "\n",
    "rfc1 = RandomForestClassifier(**parameters)\n",
    "rfc1.fit(X_train,y_train)\n",
    "y_pred = rfc1.predict(X_test)\n",
    "# y_pred = grid_search.predict(X_test)\n",
    "print(\"Accuracy Score: \", accuracy_score(y_test, y_pred))\n",
    "print(\"Classification Report: \\n\", classification_report(y_test, y_pred))"
   ]
  },
  {
   "cell_type": "markdown",
   "id": "f8016ad5",
   "metadata": {},
   "source": [
    "## Test"
   ]
  },
  {
   "cell_type": "code",
   "execution_count": 60,
   "id": "22692e65",
   "metadata": {},
   "outputs": [],
   "source": [
    "pd.set_option('display.max_rows',1000)\n",
    "test = df.loc[3695:]"
   ]
  },
  {
   "cell_type": "code",
   "execution_count": 61,
   "id": "9e86aea1",
   "metadata": {},
   "outputs": [
    {
     "data": {
      "text/html": [
       "<div>\n",
       "<style scoped>\n",
       "    .dataframe tbody tr th:only-of-type {\n",
       "        vertical-align: middle;\n",
       "    }\n",
       "\n",
       "    .dataframe tbody tr th {\n",
       "        vertical-align: top;\n",
       "    }\n",
       "\n",
       "    .dataframe thead th {\n",
       "        text-align: right;\n",
       "    }\n",
       "</style>\n",
       "<table border=\"1\" class=\"dataframe\">\n",
       "  <thead>\n",
       "    <tr style=\"text-align: right;\">\n",
       "      <th></th>\n",
       "      <th>CompanyName</th>\n",
       "      <th>Financial Department</th>\n",
       "      <th>Financial AccountGroup</th>\n",
       "      <th>VendorName</th>\n",
       "      <th>Amount Month 1</th>\n",
       "      <th>Amount Month 2</th>\n",
       "      <th>Amount Month 3</th>\n",
       "      <th>Amount Month 4</th>\n",
       "      <th>Category</th>\n",
       "    </tr>\n",
       "  </thead>\n",
       "  <tbody>\n",
       "    <tr>\n",
       "      <th>3695</th>\n",
       "      <td>B6</td>\n",
       "      <td>D1</td>\n",
       "      <td>C0</td>\n",
       "      <td>E134</td>\n",
       "      <td>930.076541</td>\n",
       "      <td>897.003874</td>\n",
       "      <td>856.459905</td>\n",
       "      <td>837.175251</td>\n",
       "      <td>NaN</td>\n",
       "    </tr>\n",
       "    <tr>\n",
       "      <th>3696</th>\n",
       "      <td>B6</td>\n",
       "      <td>D1</td>\n",
       "      <td>C0</td>\n",
       "      <td>E1293</td>\n",
       "      <td>930.076541</td>\n",
       "      <td>888.450556</td>\n",
       "      <td>836.995193</td>\n",
       "      <td>818.672007</td>\n",
       "      <td>NaN</td>\n",
       "    </tr>\n",
       "    <tr>\n",
       "      <th>3697</th>\n",
       "      <td>B6</td>\n",
       "      <td>D1</td>\n",
       "      <td>C0</td>\n",
       "      <td>E390</td>\n",
       "      <td>930.076541</td>\n",
       "      <td>895.639633</td>\n",
       "      <td>856.459905</td>\n",
       "      <td>837.175251</td>\n",
       "      <td>NaN</td>\n",
       "    </tr>\n",
       "    <tr>\n",
       "      <th>3698</th>\n",
       "      <td>B6</td>\n",
       "      <td>D1</td>\n",
       "      <td>C0</td>\n",
       "      <td>E1294</td>\n",
       "      <td>930.076541</td>\n",
       "      <td>897.167475</td>\n",
       "      <td>856.459905</td>\n",
       "      <td>837.175251</td>\n",
       "      <td>NaN</td>\n",
       "    </tr>\n",
       "    <tr>\n",
       "      <th>3699</th>\n",
       "      <td>B6</td>\n",
       "      <td>D1</td>\n",
       "      <td>C0</td>\n",
       "      <td>E1295</td>\n",
       "      <td>930.076541</td>\n",
       "      <td>897.167475</td>\n",
       "      <td>853.612419</td>\n",
       "      <td>837.175251</td>\n",
       "      <td>NaN</td>\n",
       "    </tr>\n",
       "    <tr>\n",
       "      <th>...</th>\n",
       "      <td>...</td>\n",
       "      <td>...</td>\n",
       "      <td>...</td>\n",
       "      <td>...</td>\n",
       "      <td>...</td>\n",
       "      <td>...</td>\n",
       "      <td>...</td>\n",
       "      <td>...</td>\n",
       "      <td>...</td>\n",
       "    </tr>\n",
       "    <tr>\n",
       "      <th>4715</th>\n",
       "      <td>B8</td>\n",
       "      <td>D15</td>\n",
       "      <td>C4</td>\n",
       "      <td>E1505</td>\n",
       "      <td>816.780325</td>\n",
       "      <td>846.908198</td>\n",
       "      <td>747.866497</td>\n",
       "      <td>738.087166</td>\n",
       "      <td>NaN</td>\n",
       "    </tr>\n",
       "    <tr>\n",
       "      <th>4716</th>\n",
       "      <td>B8</td>\n",
       "      <td>D15</td>\n",
       "      <td>C4</td>\n",
       "      <td>E1506</td>\n",
       "      <td>743.441494</td>\n",
       "      <td>804.010713</td>\n",
       "      <td>666.495417</td>\n",
       "      <td>657.722959</td>\n",
       "      <td>NaN</td>\n",
       "    </tr>\n",
       "    <tr>\n",
       "      <th>4717</th>\n",
       "      <td>B8</td>\n",
       "      <td>D15</td>\n",
       "      <td>C4</td>\n",
       "      <td>E1507</td>\n",
       "      <td>801.134982</td>\n",
       "      <td>837.856874</td>\n",
       "      <td>794.708694</td>\n",
       "      <td>837.175251</td>\n",
       "      <td>NaN</td>\n",
       "    </tr>\n",
       "    <tr>\n",
       "      <th>4718</th>\n",
       "      <td>B8</td>\n",
       "      <td>D15</td>\n",
       "      <td>C4</td>\n",
       "      <td>E486</td>\n",
       "      <td>930.076541</td>\n",
       "      <td>897.167475</td>\n",
       "      <td>856.459905</td>\n",
       "      <td>832.326991</td>\n",
       "      <td>NaN</td>\n",
       "    </tr>\n",
       "    <tr>\n",
       "      <th>4719</th>\n",
       "      <td>B8</td>\n",
       "      <td>D15</td>\n",
       "      <td>C5</td>\n",
       "      <td>E32</td>\n",
       "      <td>930.076541</td>\n",
       "      <td>897.107541</td>\n",
       "      <td>856.459905</td>\n",
       "      <td>837.175251</td>\n",
       "      <td>NaN</td>\n",
       "    </tr>\n",
       "  </tbody>\n",
       "</table>\n",
       "<p>1025 rows × 9 columns</p>\n",
       "</div>"
      ],
      "text/plain": [
       "     CompanyName Financial Department Financial AccountGroup VendorName  \\\n",
       "3695          B6                   D1                     C0       E134   \n",
       "3696          B6                   D1                     C0      E1293   \n",
       "3697          B6                   D1                     C0       E390   \n",
       "3698          B6                   D1                     C0      E1294   \n",
       "3699          B6                   D1                     C0      E1295   \n",
       "...          ...                  ...                    ...        ...   \n",
       "4715          B8                  D15                     C4      E1505   \n",
       "4716          B8                  D15                     C4      E1506   \n",
       "4717          B8                  D15                     C4      E1507   \n",
       "4718          B8                  D15                     C4       E486   \n",
       "4719          B8                  D15                     C5        E32   \n",
       "\n",
       "      Amount Month 1  Amount Month 2  Amount Month 3  Amount Month 4 Category  \n",
       "3695      930.076541      897.003874      856.459905      837.175251      NaN  \n",
       "3696      930.076541      888.450556      836.995193      818.672007      NaN  \n",
       "3697      930.076541      895.639633      856.459905      837.175251      NaN  \n",
       "3698      930.076541      897.167475      856.459905      837.175251      NaN  \n",
       "3699      930.076541      897.167475      853.612419      837.175251      NaN  \n",
       "...              ...             ...             ...             ...      ...  \n",
       "4715      816.780325      846.908198      747.866497      738.087166      NaN  \n",
       "4716      743.441494      804.010713      666.495417      657.722959      NaN  \n",
       "4717      801.134982      837.856874      794.708694      837.175251      NaN  \n",
       "4718      930.076541      897.167475      856.459905      832.326991      NaN  \n",
       "4719      930.076541      897.107541      856.459905      837.175251      NaN  \n",
       "\n",
       "[1025 rows x 9 columns]"
      ]
     },
     "execution_count": 61,
     "metadata": {},
     "output_type": "execute_result"
    }
   ],
   "source": [
    "test"
   ]
  },
  {
   "cell_type": "code",
   "execution_count": 62,
   "id": "834db9cb",
   "metadata": {},
   "outputs": [
    {
     "name": "stdout",
     "output_type": "stream",
     "text": [
      "CompanyName                object\n",
      "Financial Department       object\n",
      "Financial AccountGroup     object\n",
      "VendorName                 object\n",
      "Amount Month 1            float64\n",
      "Amount Month 2            float64\n",
      "Amount Month 3            float64\n",
      "Amount Month 4            float64\n",
      "Category                   object\n",
      "dtype: object\n",
      "       Amount Month 1  Amount Month 2  Amount Month 3  Amount Month 4\n",
      "count     1022.000000     1025.000000     1023.000000     1025.000000\n",
      "mean       910.597633      885.146934      836.357166      818.512243\n",
      "std         50.640650       33.582057       51.479801       48.953445\n",
      "min        645.890996      575.447214      539.459348      551.001649\n",
      "25%        925.012416      893.847548      850.972467      829.674031\n",
      "50%        930.076541      896.840513      856.013334      836.874373\n",
      "75%        930.076541      897.167475      856.459905      837.175251\n",
      "max        937.659618      918.326758      944.673672     1113.476639\n",
      "CompanyName                  0\n",
      "Financial Department         0\n",
      "Financial AccountGroup       0\n",
      "VendorName                   0\n",
      "Amount Month 1               3\n",
      "Amount Month 2               0\n",
      "Amount Month 3               2\n",
      "Amount Month 4               0\n",
      "Category                  1025\n",
      "dtype: int64\n"
     ]
    }
   ],
   "source": [
    "# Check for missing values and data distribution\n",
    "# Data Analysis and Preprocessing\n",
    "print(test.dtypes) # Check datatype of each column\n",
    "print(test.describe()) # Summary statistics of numerical columns\n",
    "print(test.isnull().sum())"
   ]
  },
  {
   "cell_type": "code",
   "execution_count": 63,
   "id": "556632a3",
   "metadata": {},
   "outputs": [],
   "source": [
    "# Impute missing values (mean, median, mode) for the \"Amount Month\" columns\n",
    "test[\"Amount Month 1\"].fillna(test[\"Amount Month 1\"].median(), inplace=True)\n",
    "test[\"Amount Month 3\"].fillna(test[\"Amount Month 3\"].median(), inplace=True)"
   ]
  },
  {
   "cell_type": "code",
   "execution_count": 64,
   "id": "5e0db07c",
   "metadata": {},
   "outputs": [
    {
     "name": "stdout",
     "output_type": "stream",
     "text": [
      "CompanyName                  0\n",
      "Financial Department         0\n",
      "Financial AccountGroup       0\n",
      "VendorName                   0\n",
      "Amount Month 1               0\n",
      "Amount Month 2               0\n",
      "Amount Month 3               0\n",
      "Amount Month 4               0\n",
      "Category                  1025\n",
      "dtype: int64\n"
     ]
    }
   ],
   "source": [
    "print(test.isnull().sum())"
   ]
  },
  {
   "cell_type": "code",
   "execution_count": 65,
   "id": "69c048a8",
   "metadata": {},
   "outputs": [],
   "source": [
    "# Encode categorical variables using LabelEncoder\n",
    "le = LabelEncoder()\n",
    "test[\"CompanyName\"] = le.fit_transform(test[\"CompanyName\"])\n",
    "test[\"VendorName\"] = le.fit_transform(test[\"VendorName\"])\n",
    "test[\"Financial Department\"] = le.fit_transform(test[\"Financial Department\"])\n",
    "test[\"Financial AccountGroup\"] = le.fit_transform(test[\"Financial AccountGroup\"])\n",
    "#test[\"Category\"] = le.fit_transform(test[\"Category\"].astype(str))"
   ]
  },
  {
   "cell_type": "code",
   "execution_count": 66,
   "id": "2edc4e90",
   "metadata": {},
   "outputs": [],
   "source": [
    "# Scale numerical features using StandardScaler\n",
    "scaler = StandardScaler()\n",
    "test[[\"Amount Month 1\", \"Amount Month 2\", \"Amount Month 3\", \"Amount Month 4\"]] = scaler.fit_transform(test[[\"Amount Month 1\", \"Amount Month 2\", \"Amount Month 3\", \"Amount Month 4\"]])"
   ]
  },
  {
   "cell_type": "code",
   "execution_count": 67,
   "id": "eb0b25b0",
   "metadata": {},
   "outputs": [],
   "source": [
    "test.drop(columns = {'VendorName','Category'},inplace=True)"
   ]
  },
  {
   "cell_type": "code",
   "execution_count": 68,
   "id": "44aee757",
   "metadata": {},
   "outputs": [
    {
     "data": {
      "text/html": [
       "<div>\n",
       "<style scoped>\n",
       "    .dataframe tbody tr th:only-of-type {\n",
       "        vertical-align: middle;\n",
       "    }\n",
       "\n",
       "    .dataframe tbody tr th {\n",
       "        vertical-align: top;\n",
       "    }\n",
       "\n",
       "    .dataframe thead th {\n",
       "        text-align: right;\n",
       "    }\n",
       "</style>\n",
       "<table border=\"1\" class=\"dataframe\">\n",
       "  <thead>\n",
       "    <tr style=\"text-align: right;\">\n",
       "      <th></th>\n",
       "      <th>CompanyName</th>\n",
       "      <th>Financial Department</th>\n",
       "      <th>Financial AccountGroup</th>\n",
       "      <th>Amount Month 1</th>\n",
       "      <th>Amount Month 2</th>\n",
       "      <th>Amount Month 3</th>\n",
       "      <th>Amount Month 4</th>\n",
       "    </tr>\n",
       "  </thead>\n",
       "  <tbody>\n",
       "    <tr>\n",
       "      <th>3695</th>\n",
       "      <td>0</td>\n",
       "      <td>1</td>\n",
       "      <td>0</td>\n",
       "      <td>0.384191</td>\n",
       "      <td>0.353246</td>\n",
       "      <td>0.390269</td>\n",
       "      <td>0.381426</td>\n",
       "    </tr>\n",
       "    <tr>\n",
       "      <th>3696</th>\n",
       "      <td>0</td>\n",
       "      <td>1</td>\n",
       "      <td>0</td>\n",
       "      <td>0.384191</td>\n",
       "      <td>0.098423</td>\n",
       "      <td>0.011664</td>\n",
       "      <td>0.003265</td>\n",
       "    </tr>\n",
       "    <tr>\n",
       "      <th>3697</th>\n",
       "      <td>0</td>\n",
       "      <td>1</td>\n",
       "      <td>0</td>\n",
       "      <td>0.384191</td>\n",
       "      <td>0.312602</td>\n",
       "      <td>0.390269</td>\n",
       "      <td>0.381426</td>\n",
       "    </tr>\n",
       "    <tr>\n",
       "      <th>3698</th>\n",
       "      <td>0</td>\n",
       "      <td>1</td>\n",
       "      <td>0</td>\n",
       "      <td>0.384191</td>\n",
       "      <td>0.358120</td>\n",
       "      <td>0.390269</td>\n",
       "      <td>0.381426</td>\n",
       "    </tr>\n",
       "    <tr>\n",
       "      <th>3699</th>\n",
       "      <td>0</td>\n",
       "      <td>1</td>\n",
       "      <td>0</td>\n",
       "      <td>0.384191</td>\n",
       "      <td>0.358120</td>\n",
       "      <td>0.334883</td>\n",
       "      <td>0.381426</td>\n",
       "    </tr>\n",
       "    <tr>\n",
       "      <th>...</th>\n",
       "      <td>...</td>\n",
       "      <td>...</td>\n",
       "      <td>...</td>\n",
       "      <td>...</td>\n",
       "      <td>...</td>\n",
       "      <td>...</td>\n",
       "      <td>...</td>\n",
       "    </tr>\n",
       "    <tr>\n",
       "      <th>4715</th>\n",
       "      <td>2</td>\n",
       "      <td>3</td>\n",
       "      <td>3</td>\n",
       "      <td>-1.856960</td>\n",
       "      <td>-1.139222</td>\n",
       "      <td>-1.721962</td>\n",
       "      <td>-1.643691</td>\n",
       "    </tr>\n",
       "    <tr>\n",
       "      <th>4716</th>\n",
       "      <td>2</td>\n",
       "      <td>3</td>\n",
       "      <td>3</td>\n",
       "      <td>-3.307700</td>\n",
       "      <td>-2.417238</td>\n",
       "      <td>-3.304695</td>\n",
       "      <td>-3.286138</td>\n",
       "    </tr>\n",
       "    <tr>\n",
       "      <th>4717</th>\n",
       "      <td>2</td>\n",
       "      <td>3</td>\n",
       "      <td>3</td>\n",
       "      <td>-2.166446</td>\n",
       "      <td>-1.408882</td>\n",
       "      <td>-0.810843</td>\n",
       "      <td>0.381426</td>\n",
       "    </tr>\n",
       "    <tr>\n",
       "      <th>4718</th>\n",
       "      <td>2</td>\n",
       "      <td>3</td>\n",
       "      <td>3</td>\n",
       "      <td>0.384191</td>\n",
       "      <td>0.358120</td>\n",
       "      <td>0.390269</td>\n",
       "      <td>0.282340</td>\n",
       "    </tr>\n",
       "    <tr>\n",
       "      <th>4719</th>\n",
       "      <td>2</td>\n",
       "      <td>3</td>\n",
       "      <td>4</td>\n",
       "      <td>0.384191</td>\n",
       "      <td>0.356335</td>\n",
       "      <td>0.390269</td>\n",
       "      <td>0.381426</td>\n",
       "    </tr>\n",
       "  </tbody>\n",
       "</table>\n",
       "<p>1025 rows × 7 columns</p>\n",
       "</div>"
      ],
      "text/plain": [
       "      CompanyName  Financial Department  Financial AccountGroup  \\\n",
       "3695            0                     1                       0   \n",
       "3696            0                     1                       0   \n",
       "3697            0                     1                       0   \n",
       "3698            0                     1                       0   \n",
       "3699            0                     1                       0   \n",
       "...           ...                   ...                     ...   \n",
       "4715            2                     3                       3   \n",
       "4716            2                     3                       3   \n",
       "4717            2                     3                       3   \n",
       "4718            2                     3                       3   \n",
       "4719            2                     3                       4   \n",
       "\n",
       "      Amount Month 1  Amount Month 2  Amount Month 3  Amount Month 4  \n",
       "3695        0.384191        0.353246        0.390269        0.381426  \n",
       "3696        0.384191        0.098423        0.011664        0.003265  \n",
       "3697        0.384191        0.312602        0.390269        0.381426  \n",
       "3698        0.384191        0.358120        0.390269        0.381426  \n",
       "3699        0.384191        0.358120        0.334883        0.381426  \n",
       "...              ...             ...             ...             ...  \n",
       "4715       -1.856960       -1.139222       -1.721962       -1.643691  \n",
       "4716       -3.307700       -2.417238       -3.304695       -3.286138  \n",
       "4717       -2.166446       -1.408882       -0.810843        0.381426  \n",
       "4718        0.384191        0.358120        0.390269        0.282340  \n",
       "4719        0.384191        0.356335        0.390269        0.381426  \n",
       "\n",
       "[1025 rows x 7 columns]"
      ]
     },
     "execution_count": 68,
     "metadata": {},
     "output_type": "execute_result"
    }
   ],
   "source": [
    "test"
   ]
  },
  {
   "cell_type": "code",
   "execution_count": null,
   "id": "05183f1e",
   "metadata": {},
   "outputs": [],
   "source": []
  },
  {
   "cell_type": "markdown",
   "id": "808d43f4",
   "metadata": {},
   "source": [
    "## 1. To Predict the label for the bills with blank categories"
   ]
  },
  {
   "cell_type": "code",
   "execution_count": 69,
   "id": "106d2576",
   "metadata": {},
   "outputs": [
    {
     "data": {
      "text/plain": [
       "array([0.        , 1.        , 0.        , 0.38419112, 0.09842263,\n",
       "       0.01166414, 0.00326518])"
      ]
     },
     "execution_count": 69,
     "metadata": {},
     "output_type": "execute_result"
    }
   ],
   "source": [
    "test_values = test.values\n",
    "test_values[1]\n"
   ]
  },
  {
   "cell_type": "code",
   "execution_count": 70,
   "id": "bbf88120",
   "metadata": {},
   "outputs": [
    {
     "data": {
      "text/plain": [
       "array([0, 0, 0, ..., 3, 0, 0])"
      ]
     },
     "execution_count": 70,
     "metadata": {},
     "output_type": "execute_result"
    }
   ],
   "source": [
    "new_data = rfc1.predict(test_values)\n",
    "new_data"
   ]
  },
  {
   "cell_type": "code",
   "execution_count": 71,
   "id": "25c005a9",
   "metadata": {},
   "outputs": [
    {
     "data": {
      "text/html": [
       "<div>\n",
       "<style scoped>\n",
       "    .dataframe tbody tr th:only-of-type {\n",
       "        vertical-align: middle;\n",
       "    }\n",
       "\n",
       "    .dataframe tbody tr th {\n",
       "        vertical-align: top;\n",
       "    }\n",
       "\n",
       "    .dataframe thead th {\n",
       "        text-align: right;\n",
       "    }\n",
       "</style>\n",
       "<table border=\"1\" class=\"dataframe\">\n",
       "  <thead>\n",
       "    <tr style=\"text-align: right;\">\n",
       "      <th></th>\n",
       "      <th>Predicted_label_Category</th>\n",
       "    </tr>\n",
       "  </thead>\n",
       "  <tbody>\n",
       "    <tr>\n",
       "      <th>0</th>\n",
       "      <td>0</td>\n",
       "    </tr>\n",
       "    <tr>\n",
       "      <th>1</th>\n",
       "      <td>0</td>\n",
       "    </tr>\n",
       "    <tr>\n",
       "      <th>2</th>\n",
       "      <td>0</td>\n",
       "    </tr>\n",
       "    <tr>\n",
       "      <th>3</th>\n",
       "      <td>0</td>\n",
       "    </tr>\n",
       "    <tr>\n",
       "      <th>4</th>\n",
       "      <td>0</td>\n",
       "    </tr>\n",
       "    <tr>\n",
       "      <th>...</th>\n",
       "      <td>...</td>\n",
       "    </tr>\n",
       "    <tr>\n",
       "      <th>1020</th>\n",
       "      <td>0</td>\n",
       "    </tr>\n",
       "    <tr>\n",
       "      <th>1021</th>\n",
       "      <td>3</td>\n",
       "    </tr>\n",
       "    <tr>\n",
       "      <th>1022</th>\n",
       "      <td>3</td>\n",
       "    </tr>\n",
       "    <tr>\n",
       "      <th>1023</th>\n",
       "      <td>0</td>\n",
       "    </tr>\n",
       "    <tr>\n",
       "      <th>1024</th>\n",
       "      <td>0</td>\n",
       "    </tr>\n",
       "  </tbody>\n",
       "</table>\n",
       "<p>1025 rows × 1 columns</p>\n",
       "</div>"
      ],
      "text/plain": [
       "      Predicted_label_Category\n",
       "0                            0\n",
       "1                            0\n",
       "2                            0\n",
       "3                            0\n",
       "4                            0\n",
       "...                        ...\n",
       "1020                         0\n",
       "1021                         3\n",
       "1022                         3\n",
       "1023                         0\n",
       "1024                         0\n",
       "\n",
       "[1025 rows x 1 columns]"
      ]
     },
     "execution_count": 71,
     "metadata": {},
     "output_type": "execute_result"
    }
   ],
   "source": [
    "pred = pd.DataFrame({\"Predicted_label_Category\":new_data})\n",
    "pred"
   ]
  },
  {
   "cell_type": "code",
   "execution_count": 72,
   "id": "28690771",
   "metadata": {},
   "outputs": [],
   "source": [
    "test.reset_index(drop=True,inplace=True)"
   ]
  },
  {
   "cell_type": "code",
   "execution_count": 73,
   "id": "3f72e61f",
   "metadata": {},
   "outputs": [
    {
     "data": {
      "text/html": [
       "<div>\n",
       "<style scoped>\n",
       "    .dataframe tbody tr th:only-of-type {\n",
       "        vertical-align: middle;\n",
       "    }\n",
       "\n",
       "    .dataframe tbody tr th {\n",
       "        vertical-align: top;\n",
       "    }\n",
       "\n",
       "    .dataframe thead th {\n",
       "        text-align: right;\n",
       "    }\n",
       "</style>\n",
       "<table border=\"1\" class=\"dataframe\">\n",
       "  <thead>\n",
       "    <tr style=\"text-align: right;\">\n",
       "      <th></th>\n",
       "      <th>CompanyName</th>\n",
       "      <th>Financial Department</th>\n",
       "      <th>Financial AccountGroup</th>\n",
       "      <th>Amount Month 1</th>\n",
       "      <th>Amount Month 2</th>\n",
       "      <th>Amount Month 3</th>\n",
       "      <th>Amount Month 4</th>\n",
       "    </tr>\n",
       "  </thead>\n",
       "  <tbody>\n",
       "    <tr>\n",
       "      <th>0</th>\n",
       "      <td>0</td>\n",
       "      <td>1</td>\n",
       "      <td>0</td>\n",
       "      <td>0.384191</td>\n",
       "      <td>0.353246</td>\n",
       "      <td>0.390269</td>\n",
       "      <td>0.381426</td>\n",
       "    </tr>\n",
       "    <tr>\n",
       "      <th>1</th>\n",
       "      <td>0</td>\n",
       "      <td>1</td>\n",
       "      <td>0</td>\n",
       "      <td>0.384191</td>\n",
       "      <td>0.098423</td>\n",
       "      <td>0.011664</td>\n",
       "      <td>0.003265</td>\n",
       "    </tr>\n",
       "    <tr>\n",
       "      <th>2</th>\n",
       "      <td>0</td>\n",
       "      <td>1</td>\n",
       "      <td>0</td>\n",
       "      <td>0.384191</td>\n",
       "      <td>0.312602</td>\n",
       "      <td>0.390269</td>\n",
       "      <td>0.381426</td>\n",
       "    </tr>\n",
       "    <tr>\n",
       "      <th>3</th>\n",
       "      <td>0</td>\n",
       "      <td>1</td>\n",
       "      <td>0</td>\n",
       "      <td>0.384191</td>\n",
       "      <td>0.358120</td>\n",
       "      <td>0.390269</td>\n",
       "      <td>0.381426</td>\n",
       "    </tr>\n",
       "    <tr>\n",
       "      <th>4</th>\n",
       "      <td>0</td>\n",
       "      <td>1</td>\n",
       "      <td>0</td>\n",
       "      <td>0.384191</td>\n",
       "      <td>0.358120</td>\n",
       "      <td>0.334883</td>\n",
       "      <td>0.381426</td>\n",
       "    </tr>\n",
       "    <tr>\n",
       "      <th>...</th>\n",
       "      <td>...</td>\n",
       "      <td>...</td>\n",
       "      <td>...</td>\n",
       "      <td>...</td>\n",
       "      <td>...</td>\n",
       "      <td>...</td>\n",
       "      <td>...</td>\n",
       "    </tr>\n",
       "    <tr>\n",
       "      <th>1020</th>\n",
       "      <td>2</td>\n",
       "      <td>3</td>\n",
       "      <td>3</td>\n",
       "      <td>-1.856960</td>\n",
       "      <td>-1.139222</td>\n",
       "      <td>-1.721962</td>\n",
       "      <td>-1.643691</td>\n",
       "    </tr>\n",
       "    <tr>\n",
       "      <th>1021</th>\n",
       "      <td>2</td>\n",
       "      <td>3</td>\n",
       "      <td>3</td>\n",
       "      <td>-3.307700</td>\n",
       "      <td>-2.417238</td>\n",
       "      <td>-3.304695</td>\n",
       "      <td>-3.286138</td>\n",
       "    </tr>\n",
       "    <tr>\n",
       "      <th>1022</th>\n",
       "      <td>2</td>\n",
       "      <td>3</td>\n",
       "      <td>3</td>\n",
       "      <td>-2.166446</td>\n",
       "      <td>-1.408882</td>\n",
       "      <td>-0.810843</td>\n",
       "      <td>0.381426</td>\n",
       "    </tr>\n",
       "    <tr>\n",
       "      <th>1023</th>\n",
       "      <td>2</td>\n",
       "      <td>3</td>\n",
       "      <td>3</td>\n",
       "      <td>0.384191</td>\n",
       "      <td>0.358120</td>\n",
       "      <td>0.390269</td>\n",
       "      <td>0.282340</td>\n",
       "    </tr>\n",
       "    <tr>\n",
       "      <th>1024</th>\n",
       "      <td>2</td>\n",
       "      <td>3</td>\n",
       "      <td>4</td>\n",
       "      <td>0.384191</td>\n",
       "      <td>0.356335</td>\n",
       "      <td>0.390269</td>\n",
       "      <td>0.381426</td>\n",
       "    </tr>\n",
       "  </tbody>\n",
       "</table>\n",
       "<p>1025 rows × 7 columns</p>\n",
       "</div>"
      ],
      "text/plain": [
       "      CompanyName  Financial Department  Financial AccountGroup  \\\n",
       "0               0                     1                       0   \n",
       "1               0                     1                       0   \n",
       "2               0                     1                       0   \n",
       "3               0                     1                       0   \n",
       "4               0                     1                       0   \n",
       "...           ...                   ...                     ...   \n",
       "1020            2                     3                       3   \n",
       "1021            2                     3                       3   \n",
       "1022            2                     3                       3   \n",
       "1023            2                     3                       3   \n",
       "1024            2                     3                       4   \n",
       "\n",
       "      Amount Month 1  Amount Month 2  Amount Month 3  Amount Month 4  \n",
       "0           0.384191        0.353246        0.390269        0.381426  \n",
       "1           0.384191        0.098423        0.011664        0.003265  \n",
       "2           0.384191        0.312602        0.390269        0.381426  \n",
       "3           0.384191        0.358120        0.390269        0.381426  \n",
       "4           0.384191        0.358120        0.334883        0.381426  \n",
       "...              ...             ...             ...             ...  \n",
       "1020       -1.856960       -1.139222       -1.721962       -1.643691  \n",
       "1021       -3.307700       -2.417238       -3.304695       -3.286138  \n",
       "1022       -2.166446       -1.408882       -0.810843        0.381426  \n",
       "1023        0.384191        0.358120        0.390269        0.282340  \n",
       "1024        0.384191        0.356335        0.390269        0.381426  \n",
       "\n",
       "[1025 rows x 7 columns]"
      ]
     },
     "execution_count": 73,
     "metadata": {},
     "output_type": "execute_result"
    }
   ],
   "source": [
    "test"
   ]
  },
  {
   "cell_type": "code",
   "execution_count": 74,
   "id": "0118aa7e",
   "metadata": {},
   "outputs": [],
   "source": [
    "# Prediction of the label for the bills with blank categories\n",
    "new = pd.concat([test,pred],axis=1)"
   ]
  },
  {
   "cell_type": "code",
   "execution_count": 75,
   "id": "ef274515",
   "metadata": {},
   "outputs": [
    {
     "data": {
      "text/html": [
       "<div>\n",
       "<style scoped>\n",
       "    .dataframe tbody tr th:only-of-type {\n",
       "        vertical-align: middle;\n",
       "    }\n",
       "\n",
       "    .dataframe tbody tr th {\n",
       "        vertical-align: top;\n",
       "    }\n",
       "\n",
       "    .dataframe thead th {\n",
       "        text-align: right;\n",
       "    }\n",
       "</style>\n",
       "<table border=\"1\" class=\"dataframe\">\n",
       "  <thead>\n",
       "    <tr style=\"text-align: right;\">\n",
       "      <th></th>\n",
       "      <th>CompanyName</th>\n",
       "      <th>Financial Department</th>\n",
       "      <th>Financial AccountGroup</th>\n",
       "      <th>Amount Month 1</th>\n",
       "      <th>Amount Month 2</th>\n",
       "      <th>Amount Month 3</th>\n",
       "      <th>Amount Month 4</th>\n",
       "      <th>Predicted_label_Category</th>\n",
       "    </tr>\n",
       "  </thead>\n",
       "  <tbody>\n",
       "    <tr>\n",
       "      <th>0</th>\n",
       "      <td>0</td>\n",
       "      <td>1</td>\n",
       "      <td>0</td>\n",
       "      <td>0.384191</td>\n",
       "      <td>0.353246</td>\n",
       "      <td>0.390269</td>\n",
       "      <td>0.381426</td>\n",
       "      <td>0</td>\n",
       "    </tr>\n",
       "    <tr>\n",
       "      <th>1</th>\n",
       "      <td>0</td>\n",
       "      <td>1</td>\n",
       "      <td>0</td>\n",
       "      <td>0.384191</td>\n",
       "      <td>0.098423</td>\n",
       "      <td>0.011664</td>\n",
       "      <td>0.003265</td>\n",
       "      <td>0</td>\n",
       "    </tr>\n",
       "    <tr>\n",
       "      <th>2</th>\n",
       "      <td>0</td>\n",
       "      <td>1</td>\n",
       "      <td>0</td>\n",
       "      <td>0.384191</td>\n",
       "      <td>0.312602</td>\n",
       "      <td>0.390269</td>\n",
       "      <td>0.381426</td>\n",
       "      <td>0</td>\n",
       "    </tr>\n",
       "    <tr>\n",
       "      <th>3</th>\n",
       "      <td>0</td>\n",
       "      <td>1</td>\n",
       "      <td>0</td>\n",
       "      <td>0.384191</td>\n",
       "      <td>0.358120</td>\n",
       "      <td>0.390269</td>\n",
       "      <td>0.381426</td>\n",
       "      <td>0</td>\n",
       "    </tr>\n",
       "    <tr>\n",
       "      <th>4</th>\n",
       "      <td>0</td>\n",
       "      <td>1</td>\n",
       "      <td>0</td>\n",
       "      <td>0.384191</td>\n",
       "      <td>0.358120</td>\n",
       "      <td>0.334883</td>\n",
       "      <td>0.381426</td>\n",
       "      <td>0</td>\n",
       "    </tr>\n",
       "    <tr>\n",
       "      <th>...</th>\n",
       "      <td>...</td>\n",
       "      <td>...</td>\n",
       "      <td>...</td>\n",
       "      <td>...</td>\n",
       "      <td>...</td>\n",
       "      <td>...</td>\n",
       "      <td>...</td>\n",
       "      <td>...</td>\n",
       "    </tr>\n",
       "    <tr>\n",
       "      <th>1020</th>\n",
       "      <td>2</td>\n",
       "      <td>3</td>\n",
       "      <td>3</td>\n",
       "      <td>-1.856960</td>\n",
       "      <td>-1.139222</td>\n",
       "      <td>-1.721962</td>\n",
       "      <td>-1.643691</td>\n",
       "      <td>0</td>\n",
       "    </tr>\n",
       "    <tr>\n",
       "      <th>1021</th>\n",
       "      <td>2</td>\n",
       "      <td>3</td>\n",
       "      <td>3</td>\n",
       "      <td>-3.307700</td>\n",
       "      <td>-2.417238</td>\n",
       "      <td>-3.304695</td>\n",
       "      <td>-3.286138</td>\n",
       "      <td>3</td>\n",
       "    </tr>\n",
       "    <tr>\n",
       "      <th>1022</th>\n",
       "      <td>2</td>\n",
       "      <td>3</td>\n",
       "      <td>3</td>\n",
       "      <td>-2.166446</td>\n",
       "      <td>-1.408882</td>\n",
       "      <td>-0.810843</td>\n",
       "      <td>0.381426</td>\n",
       "      <td>3</td>\n",
       "    </tr>\n",
       "    <tr>\n",
       "      <th>1023</th>\n",
       "      <td>2</td>\n",
       "      <td>3</td>\n",
       "      <td>3</td>\n",
       "      <td>0.384191</td>\n",
       "      <td>0.358120</td>\n",
       "      <td>0.390269</td>\n",
       "      <td>0.282340</td>\n",
       "      <td>0</td>\n",
       "    </tr>\n",
       "    <tr>\n",
       "      <th>1024</th>\n",
       "      <td>2</td>\n",
       "      <td>3</td>\n",
       "      <td>4</td>\n",
       "      <td>0.384191</td>\n",
       "      <td>0.356335</td>\n",
       "      <td>0.390269</td>\n",
       "      <td>0.381426</td>\n",
       "      <td>0</td>\n",
       "    </tr>\n",
       "  </tbody>\n",
       "</table>\n",
       "<p>1025 rows × 8 columns</p>\n",
       "</div>"
      ],
      "text/plain": [
       "      CompanyName  Financial Department  Financial AccountGroup  \\\n",
       "0               0                     1                       0   \n",
       "1               0                     1                       0   \n",
       "2               0                     1                       0   \n",
       "3               0                     1                       0   \n",
       "4               0                     1                       0   \n",
       "...           ...                   ...                     ...   \n",
       "1020            2                     3                       3   \n",
       "1021            2                     3                       3   \n",
       "1022            2                     3                       3   \n",
       "1023            2                     3                       3   \n",
       "1024            2                     3                       4   \n",
       "\n",
       "      Amount Month 1  Amount Month 2  Amount Month 3  Amount Month 4  \\\n",
       "0           0.384191        0.353246        0.390269        0.381426   \n",
       "1           0.384191        0.098423        0.011664        0.003265   \n",
       "2           0.384191        0.312602        0.390269        0.381426   \n",
       "3           0.384191        0.358120        0.390269        0.381426   \n",
       "4           0.384191        0.358120        0.334883        0.381426   \n",
       "...              ...             ...             ...             ...   \n",
       "1020       -1.856960       -1.139222       -1.721962       -1.643691   \n",
       "1021       -3.307700       -2.417238       -3.304695       -3.286138   \n",
       "1022       -2.166446       -1.408882       -0.810843        0.381426   \n",
       "1023        0.384191        0.358120        0.390269        0.282340   \n",
       "1024        0.384191        0.356335        0.390269        0.381426   \n",
       "\n",
       "      Predicted_label_Category  \n",
       "0                            0  \n",
       "1                            0  \n",
       "2                            0  \n",
       "3                            0  \n",
       "4                            0  \n",
       "...                        ...  \n",
       "1020                         0  \n",
       "1021                         3  \n",
       "1022                         3  \n",
       "1023                         0  \n",
       "1024                         0  \n",
       "\n",
       "[1025 rows x 8 columns]"
      ]
     },
     "execution_count": 75,
     "metadata": {},
     "output_type": "execute_result"
    }
   ],
   "source": [
    "new"
   ]
  },
  {
   "cell_type": "code",
   "execution_count": null,
   "id": "12d42d1c",
   "metadata": {},
   "outputs": [],
   "source": []
  },
  {
   "cell_type": "markdown",
   "id": "4b3d6d0b",
   "metadata": {},
   "source": [
    "### Result : So, new data will give us predicted labels for the bills with the blank Categories as Predicted_label_Category."
   ]
  },
  {
   "cell_type": "code",
   "execution_count": null,
   "id": "f7a54620",
   "metadata": {},
   "outputs": [],
   "source": []
  },
  {
   "cell_type": "markdown",
   "id": "ec4bfbe7",
   "metadata": {},
   "source": [
    "## 2. To Predict the label for the new set of bills which will be added in future."
   ]
  },
  {
   "cell_type": "code",
   "execution_count": null,
   "id": "262ef143",
   "metadata": {},
   "outputs": [],
   "source": []
  },
  {
   "cell_type": "code",
   "execution_count": null,
   "id": "9e0196f3",
   "metadata": {},
   "outputs": [],
   "source": [
    "#predict labels for new set of bills\n",
    "new_bills_data = pd.read_excel(r'new_bills.xlsx')\n",
    "predicted_categories = rfc1.predict(new_bills_data)\n",
    "\n",
    "# print predicted categories\n",
    "print(predicted_categories)\n"
   ]
  },
  {
   "cell_type": "code",
   "execution_count": 79,
   "id": "01eb8ea9",
   "metadata": {},
   "outputs": [
    {
     "name": "stdout",
     "output_type": "stream",
     "text": [
      "Category [0]\n"
     ]
    }
   ],
   "source": [
    "new_input1020 = [[2,3,3,-1.856960,-1.139222,-1.721962,-1.643691]]\n",
    "new_output = rfc1.predict(new_input1020)\n",
    "print(\"Category\",new_output)"
   ]
  },
  {
   "cell_type": "code",
   "execution_count": 80,
   "id": "bf1de32f",
   "metadata": {},
   "outputs": [
    {
     "name": "stdout",
     "output_type": "stream",
     "text": [
      "Category [3]\n"
     ]
    }
   ],
   "source": [
    "#Using Another Method\n",
    "new_input1021 = [[2,3,3,-3.307700,-2.417238,-3.304695,-3.286138]]\n",
    "new_output = rfc1.predict(new_input1021)\n",
    "print(\"Category\",new_output)"
   ]
  },
  {
   "cell_type": "code",
   "execution_count": 81,
   "id": "d6250eb6",
   "metadata": {},
   "outputs": [
    {
     "name": "stdout",
     "output_type": "stream",
     "text": [
      "Category [3]\n"
     ]
    }
   ],
   "source": [
    "new_input1022 = [[2,3,3,-2.166446,-1.408882,-0.810843,0.381426]]\n",
    "new_output = rfc1.predict(new_input1022)\n",
    "print(\"Category\",new_output)"
   ]
  },
  {
   "cell_type": "markdown",
   "id": "a4e29e50",
   "metadata": {},
   "source": [
    "### Interpretation : As, we give new_input to the model using 'CompanyName', 'Financial Department', 'Financial AccountGroup','Amount Month 1','Amount Month 2','Amount Month 3', 'Amount Month 4' columns of the dataset we will get new output for our target Variable 'Category'. \n",
    "### Using this, We can predict the label for the new set of bills which will be added in future using any record from the dataset."
   ]
  },
  {
   "cell_type": "code",
   "execution_count": null,
   "id": "2ea084b0",
   "metadata": {},
   "outputs": [],
   "source": []
  },
  {
   "cell_type": "markdown",
   "id": "00f23788",
   "metadata": {},
   "source": [
    "### Conclusion : Random Forest Classifier Algorithm is best classifier and The key advantage of random forest is that it can handle high-dimensional data and reduce the risk of overfitting by randomly selecting a subset of the features and data for each tree. Additionally, random forest can handle missing data, outliers, and nonlinear relationships between the features and the target variable.\n",
    "### Overall, random forest is a powerful and flexible algorithm that can be applied to a wide range of classification and regression problems."
   ]
  },
  {
   "cell_type": "code",
   "execution_count": null,
   "id": "71bfd925",
   "metadata": {},
   "outputs": [],
   "source": []
  }
 ],
 "metadata": {
  "kernelspec": {
   "display_name": "Python 3 (ipykernel)",
   "language": "python",
   "name": "python3"
  },
  "language_info": {
   "codemirror_mode": {
    "name": "ipython",
    "version": 3
   },
   "file_extension": ".py",
   "mimetype": "text/x-python",
   "name": "python",
   "nbconvert_exporter": "python",
   "pygments_lexer": "ipython3",
   "version": "3.8.13"
  }
 },
 "nbformat": 4,
 "nbformat_minor": 5
}
